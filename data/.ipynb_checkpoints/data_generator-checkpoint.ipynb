{
 "cells": [
  {
   "cell_type": "code",
   "execution_count": 1,
   "metadata": {
    "collapsed": true
   },
   "outputs": [],
   "source": [
    "# Sample data set"
   ]
  },
  {
   "cell_type": "code",
   "execution_count": 3,
   "metadata": {
    "collapsed": false
   },
   "outputs": [],
   "source": [
    "import pandas as pd\n",
    "import numpy as np"
   ]
  },
  {
   "cell_type": "code",
   "execution_count": 197,
   "metadata": {
    "collapsed": false
   },
   "outputs": [
    {
     "data": {
      "text/plain": [
       "array([-154.75261393,   88.10415276,  -27.02619362,  -62.38420781,\n",
       "        207.60125871,  -54.5971419 ,   59.7592333 ,   66.39017733,\n",
       "        170.31097444,  -53.92977673,  -42.81251321,   48.23936978,\n",
       "          3.09423633,  -40.76538398,   64.62777373,  -16.72581051,\n",
       "        192.4580214 ,   70.57121928,  -48.23455373,  232.15604867,\n",
       "        140.59916269,  -96.30907798,   15.19783691,   63.39219305,\n",
       "        -44.21924468,   76.95544295, -108.71193669,  -37.07222943,\n",
       "        -36.8609713 ,  -64.46681008,   66.8995653 , -116.11517918,\n",
       "       -166.93385173,   22.6295865 ,   10.68190205,  -86.85692671,\n",
       "        -73.87703143, -135.6311631 , -167.51886899,  -25.18221451,\n",
       "        -35.91808289,   57.69610254,  -90.77327477,   50.73503394,\n",
       "        118.31780903,  -52.9292715 , -204.34072127,   35.6617242 ,\n",
       "        341.24946082,   59.85678884,  127.34085023, -158.50821911,\n",
       "       -142.97060586,    0.53307951,  -68.24710458,  -28.8069398 ,\n",
       "         46.76303358,   36.25047453,    3.12704932,   77.48642886,\n",
       "       -212.58855427,   87.34346071,  -96.57967196,  121.47453845,\n",
       "        -61.7524781 ,  -84.80140207,   95.97777174,   19.16619129,\n",
       "        126.81069724,  146.74463422,   35.44528018,   60.03739963,\n",
       "         66.4564325 , -147.75952058,  109.17400756,   80.0223814 ,\n",
       "         27.85541989, -149.30678718,  138.02203293, -143.1768639 ,\n",
       "         -6.70787394,  -15.94022298,   -7.56561875,  -28.28794014,\n",
       "        -42.06606962, -113.33072335,  122.46529296,  -35.45035276,\n",
       "         20.01499815,  227.31329594,  131.715933  ,  129.04583933,\n",
       "        142.38087886,  -59.91818891,   20.7840485 , -114.01402404,\n",
       "         92.11153966,  -12.0200727 , -113.12273736, -150.77133148])"
      ]
     },
     "execution_count": 197,
     "metadata": {},
     "output_type": "execute_result"
    }
   ],
   "source": [
    "np.random.randn(100) * 100"
   ]
  },
  {
   "cell_type": "code",
   "execution_count": 187,
   "metadata": {
    "collapsed": false
   },
   "outputs": [],
   "source": [
    "cluster_id = np.random.choice(5, 100)"
   ]
  },
  {
   "cell_type": "code",
   "execution_count": 198,
   "metadata": {
    "collapsed": false
   },
   "outputs": [],
   "source": [
    "df = pd.DataFrame([np.random.randn(100) * 100, np.random.randn(100) * 100, np.random.randn(100) * 100, cluster_id])"
   ]
  },
  {
   "cell_type": "code",
   "execution_count": 199,
   "metadata": {
    "collapsed": false
   },
   "outputs": [],
   "source": [
    "df = df.T"
   ]
  },
  {
   "cell_type": "code",
   "execution_count": 200,
   "metadata": {
    "collapsed": false
   },
   "outputs": [],
   "source": [
    "df.columns=['x','y','z','cid']"
   ]
  },
  {
   "cell_type": "code",
   "execution_count": 201,
   "metadata": {
    "collapsed": false
   },
   "outputs": [
    {
     "data": {
      "text/html": [
       "<div style=\"max-height:1000px;max-width:1500px;overflow:auto;\">\n",
       "<table border=\"1\" class=\"dataframe\">\n",
       "  <thead>\n",
       "    <tr style=\"text-align: right;\">\n",
       "      <th></th>\n",
       "      <th>x</th>\n",
       "      <th>y</th>\n",
       "      <th>z</th>\n",
       "      <th>cid</th>\n",
       "    </tr>\n",
       "  </thead>\n",
       "  <tbody>\n",
       "    <tr>\n",
       "      <th>0</th>\n",
       "      <td>-164.013638</td>\n",
       "      <td>-46.173156</td>\n",
       "      <td>-195.543069</td>\n",
       "      <td>2</td>\n",
       "    </tr>\n",
       "    <tr>\n",
       "      <th>1</th>\n",
       "      <td>201.258384</td>\n",
       "      <td>-83.569181</td>\n",
       "      <td>-90.638183</td>\n",
       "      <td>1</td>\n",
       "    </tr>\n",
       "    <tr>\n",
       "      <th>2</th>\n",
       "      <td>38.777638</td>\n",
       "      <td>52.321205</td>\n",
       "      <td>94.826657</td>\n",
       "      <td>2</td>\n",
       "    </tr>\n",
       "    <tr>\n",
       "      <th>3</th>\n",
       "      <td>44.874468</td>\n",
       "      <td>-92.993127</td>\n",
       "      <td>-41.805962</td>\n",
       "      <td>1</td>\n",
       "    </tr>\n",
       "    <tr>\n",
       "      <th>4</th>\n",
       "      <td>28.777661</td>\n",
       "      <td>151.573230</td>\n",
       "      <td>-1.212601</td>\n",
       "      <td>3</td>\n",
       "    </tr>\n",
       "  </tbody>\n",
       "</table>\n",
       "</div>"
      ],
      "text/plain": [
       "            x           y           z  cid\n",
       "0 -164.013638  -46.173156 -195.543069    2\n",
       "1  201.258384  -83.569181  -90.638183    1\n",
       "2   38.777638   52.321205   94.826657    2\n",
       "3   44.874468  -92.993127  -41.805962    1\n",
       "4   28.777661  151.573230   -1.212601    3"
      ]
     },
     "execution_count": 201,
     "metadata": {},
     "output_type": "execute_result"
    }
   ],
   "source": [
    "df.head()"
   ]
  },
  {
   "cell_type": "code",
   "execution_count": 202,
   "metadata": {
    "collapsed": false
   },
   "outputs": [
    {
     "name": "stdout",
     "output_type": "stream",
     "text": [
      "<class 'pandas.core.frame.DataFrame'>\n",
      "Int64Index: 100 entries, 0 to 99\n",
      "Data columns (total 4 columns):\n",
      "x      100 non-null float64\n",
      "y      100 non-null float64\n",
      "z      100 non-null float64\n",
      "cid    100 non-null float64\n",
      "dtypes: float64(4)\n",
      "memory usage: 3.9 KB\n"
     ]
    }
   ],
   "source": [
    "df.info()"
   ]
  },
  {
   "cell_type": "code",
   "execution_count": 203,
   "metadata": {
    "collapsed": true
   },
   "outputs": [],
   "source": [
    "df.to_json('sample_data.json')"
   ]
  },
  {
   "cell_type": "code",
   "execution_count": 204,
   "metadata": {
    "collapsed": false
   },
   "outputs": [
    {
     "name": "stdout",
     "output_type": "stream",
     "text": [
      "data_generator.ipynb sample_data.json\r\n"
     ]
    }
   ],
   "source": [
    "! ls"
   ]
  },
  {
   "cell_type": "code",
   "execution_count": 214,
   "metadata": {
    "collapsed": true
   },
   "outputs": [],
   "source": [
    "# Color Generator"
   ]
  },
  {
   "cell_type": "code",
   "execution_count": 1,
   "metadata": {
    "collapsed": false
   },
   "outputs": [],
   "source": [
    "import seaborn as sns\n",
    "import matplotlib.pyplot as plt"
   ]
  },
  {
   "cell_type": "code",
   "execution_count": 2,
   "metadata": {
    "collapsed": true
   },
   "outputs": [],
   "source": [
    "% matplotlib inline"
   ]
  },
  {
   "cell_type": "code",
   "execution_count": 3,
   "metadata": {
    "collapsed": false
   },
   "outputs": [
    {
     "data": {
      "image/png": "[encoded data removed]",
      "text/plain": [
       "<matplotlib.figure.Figure at 0x11433a518>"
      ]
     },
     "metadata": {},
     "output_type": "display_data"
    }
   ],
   "source": [
    "sns.palplot(sns.color_palette('husl', 30))"
   ]
  },
  {
   "cell_type": "code",
   "execution_count": 4,
   "metadata": {
    "collapsed": false
   },
   "outputs": [
    {
     "data": {
      "text/plain": [
       "[(0.9677975592919913, 0.44127456009157356, 0.5358103155058701),\n",
       " (0.9694979754285514, 0.4537284387051496, 0.40783466214891867),\n",
       " (0.9542900080364486, 0.4779505175890752, 0.1963917622115608),\n",
       " (0.8616090647292522, 0.536495730113334, 0.19548899031476086),\n",
       " (0.7930046244373694, 0.5708100522446624, 0.19489531984381053),\n",
       " (0.7350228985632719, 0.5952719904750953, 0.1944419133847522),\n",
       " (0.6804189127793346, 0.6151497514677574, 0.19405452111445337),\n",
       " (0.6234809659087222, 0.6330654918766613, 0.19369052933737949),\n",
       " (0.5571803870240879, 0.6507747739933957, 0.19331667588333168),\n",
       " (0.46810256823426116, 0.6699492535792404, 0.19289587399044988),\n",
       " (0.3126890019504329, 0.6928754610296064, 0.1923704830330379),\n",
       " (0.19645998900718342, 0.6974309119838096, 0.3614680088321782),\n",
       " (0.20125317221201128, 0.6907920815379025, 0.47966761189275336),\n",
       " (0.2047934223695329, 0.6857201900461317, 0.5491539606228022),\n",
       " (0.20774052347943134, 0.6813852191365138, 0.6002900398972028),\n",
       " (0.21044753832183283, 0.6773105080456748, 0.6433941168468681),\n",
       " (0.21316806282417172, 0.6731234926210208, 0.6838056741516414),\n",
       " (0.2161609050020783, 0.6684079809438751, 0.7255515774097884),\n",
       " (0.21979956608283252, 0.6625157876850336, 0.7732093159317208),\n",
       " (0.22480301438618688, 0.6541170341314059, 0.8343335482693295),\n",
       " (0.23299120924703914, 0.639586552066035, 0.9260706093977744),\n",
       " (0.43328034117642245, 0.6065273407962816, 0.9585467098271748),\n",
       " (0.5830408541921136, 0.5695319215803094, 0.9583591966369759),\n",
       " (0.6968456641452155, 0.5283777451706791, 0.9581680759272918),\n",
       " (0.8004936186423958, 0.47703363533737203, 0.9579547196007522),\n",
       " (0.9082572436765556, 0.40195790729656516, 0.9576909250290225),\n",
       " (0.9596479078308885, 0.3748291312853888, 0.8930044537663009),\n",
       " (0.962272393509669, 0.3976451968965351, 0.8008274363432775),\n",
       " (0.9642903119819891, 0.41420146582831974, 0.7188681186026104),\n",
       " (0.9660237860697111, 0.42783187979900156, 0.636998264206457)]"
      ]
     },
     "execution_count": 4,
     "metadata": {},
     "output_type": "execute_result"
    }
   ],
   "source": [
    "sns.color_palette('husl', 30)"
   ]
  },
  {
   "cell_type": "code",
   "execution_count": 5,
   "metadata": {
    "collapsed": true
   },
   "outputs": [],
   "source": [
    "colors = sns.color_palette('husl', 30)"
   ]
  },
  {
   "cell_type": "code",
   "execution_count": 6,
   "metadata": {
    "collapsed": false
   },
   "outputs": [
    {
     "data": {
      "text/plain": [
       "[(0.9677975592919913, 0.44127456009157356, 0.5358103155058701),\n",
       " (0.9694979754285514, 0.4537284387051496, 0.40783466214891867),\n",
       " (0.9542900080364486, 0.4779505175890752, 0.1963917622115608),\n",
       " (0.8616090647292522, 0.536495730113334, 0.19548899031476086),\n",
       " (0.7930046244373694, 0.5708100522446624, 0.19489531984381053),\n",
       " (0.7350228985632719, 0.5952719904750953, 0.1944419133847522),\n",
       " (0.6804189127793346, 0.6151497514677574, 0.19405452111445337),\n",
       " (0.6234809659087222, 0.6330654918766613, 0.19369052933737949),\n",
       " (0.5571803870240879, 0.6507747739933957, 0.19331667588333168),\n",
       " (0.46810256823426116, 0.6699492535792404, 0.19289587399044988),\n",
       " (0.3126890019504329, 0.6928754610296064, 0.1923704830330379),\n",
       " (0.19645998900718342, 0.6974309119838096, 0.3614680088321782),\n",
       " (0.20125317221201128, 0.6907920815379025, 0.47966761189275336),\n",
       " (0.2047934223695329, 0.6857201900461317, 0.5491539606228022),\n",
       " (0.20774052347943134, 0.6813852191365138, 0.6002900398972028),\n",
       " (0.21044753832183283, 0.6773105080456748, 0.6433941168468681),\n",
       " (0.21316806282417172, 0.6731234926210208, 0.6838056741516414),\n",
       " (0.2161609050020783, 0.6684079809438751, 0.7255515774097884),\n",
       " (0.21979956608283252, 0.6625157876850336, 0.7732093159317208),\n",
       " (0.22480301438618688, 0.6541170341314059, 0.8343335482693295),\n",
       " (0.23299120924703914, 0.639586552066035, 0.9260706093977744),\n",
       " (0.43328034117642245, 0.6065273407962816, 0.9585467098271748),\n",
       " (0.5830408541921136, 0.5695319215803094, 0.9583591966369759),\n",
       " (0.6968456641452155, 0.5283777451706791, 0.9581680759272918),\n",
       " (0.8004936186423958, 0.47703363533737203, 0.9579547196007522),\n",
       " (0.9082572436765556, 0.40195790729656516, 0.9576909250290225),\n",
       " (0.9596479078308885, 0.3748291312853888, 0.8930044537663009),\n",
       " (0.962272393509669, 0.3976451968965351, 0.8008274363432775),\n",
       " (0.9642903119819891, 0.41420146582831974, 0.7188681186026104),\n",
       " (0.9660237860697111, 0.42783187979900156, 0.636998264206457)]"
      ]
     },
     "execution_count": 6,
     "metadata": {},
     "output_type": "execute_result"
    }
   ],
   "source": [
    "colors"
   ]
  },
  {
   "cell_type": "code",
   "execution_count": 7,
   "metadata": {
    "collapsed": false
   },
   "outputs": [],
   "source": [
    "rgbs = []\n",
    "for (r,g,b) in colors:\n",
    "    r *= 255\n",
    "    g *= 255\n",
    "    b *= 255\n",
    "    rgbs.append((int(r),int(g),int(b)))"
   ]
  },
  {
   "cell_type": "code",
   "execution_count": 8,
   "metadata": {
    "collapsed": false
   },
   "outputs": [
    {
     "data": {
      "text/plain": [
       "[(246, 112, 136),\n",
       " (247, 115, 103),\n",
       " (243, 121, 50),\n",
       " (219, 136, 49),\n",
       " (202, 145, 49),\n",
       " (187, 151, 49),\n",
       " (173, 156, 49),\n",
       " (158, 161, 49),\n",
       " (142, 165, 49),\n",
       " (119, 170, 49),\n",
       " (79, 176, 49),\n",
       " (50, 177, 92),\n",
       " (51, 176, 122),\n",
       " (52, 174, 140),\n",
       " (52, 173, 153),\n",
       " (53, 172, 164),\n",
       " (54, 171, 174),\n",
       " (55, 170, 185),\n",
       " (56, 168, 197),\n",
       " (57, 166, 212),\n",
       " (59, 163, 236),\n",
       " (110, 154, 244),\n",
       " (148, 145, 244),\n",
       " (177, 134, 244),\n",
       " (204, 121, 244),\n",
       " (231, 102, 244),\n",
       " (244, 95, 227),\n",
       " (245, 101, 204),\n",
       " (245, 105, 183),\n",
       " (246, 109, 162)]"
      ]
     },
     "execution_count": 8,
     "metadata": {},
     "output_type": "execute_result"
    }
   ],
   "source": [
    "rgbs"
   ]
  },
  {
   "cell_type": "code",
   "execution_count": 9,
   "metadata": {
    "collapsed": false
   },
   "outputs": [],
   "source": [
    "hexes = [\"0x{0:02x}{1:02x}{2:02x}\".format(r,b,g) for (r,g,b) in rgbs]"
   ]
  },
  {
   "cell_type": "code",
   "execution_count": 10,
   "metadata": {
    "collapsed": false
   },
   "outputs": [
    {
     "data": {
      "text/plain": [
       "['0xf68870',\n",
       " '0xf76773',\n",
       " '0xf33279',\n",
       " '0xdb3188',\n",
       " '0xca3191',\n",
       " '0xbb3197',\n",
       " '0xad319c',\n",
       " '0x9e31a1',\n",
       " '0x8e31a5',\n",
       " '0x7731aa',\n",
       " '0x4f31b0',\n",
       " '0x325cb1',\n",
       " '0x337ab0',\n",
       " '0x348cae',\n",
       " '0x3499ad',\n",
       " '0x35a4ac',\n",
       " '0x36aeab',\n",
       " '0x37b9aa',\n",
       " '0x38c5a8',\n",
       " '0x39d4a6',\n",
       " '0x3beca3',\n",
       " '0x6ef49a',\n",
       " '0x94f491',\n",
       " '0xb1f486',\n",
       " '0xccf479',\n",
       " '0xe7f466',\n",
       " '0xf4e35f',\n",
       " '0xf5cc65',\n",
       " '0xf5b769',\n",
       " '0xf6a26d']"
      ]
     },
     "execution_count": 10,
     "metadata": {},
     "output_type": "execute_result"
    }
   ],
   "source": [
    "hexes"
   ]
  },
  {
   "cell_type": "code",
   "execution_count": null,
   "metadata": {
    "collapsed": true
   },
   "outputs": [],
   "source": []
  }
 ],
 "metadata": {
  "kernelspec": {
   "display_name": "Python 3",
   "language": "python",
   "name": "python3"
  },
  "language_info": {
   "codemirror_mode": {
    "name": "ipython",
    "version": 3
   },
   "file_extension": ".py",
   "mimetype": "text/x-python",
   "name": "python",
   "nbconvert_exporter": "python",
   "pygments_lexer": "ipython3",
   "version": "3.4.3"
  }
 },
 "nbformat": 4,
 "nbformat_minor": 0
}
