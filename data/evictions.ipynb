{
 "cells": [
  {
   "cell_type": "code",
   "execution_count": 1,
   "metadata": {
    "collapsed": true
   },
   "outputs": [],
   "source": [
    "import geopy"
   ]
  },
  {
   "cell_type": "code",
   "execution_count": 2,
   "metadata": {
    "collapsed": true
   },
   "outputs": [],
   "source": [
    "geolocator = geopy.Nominatim()"
   ]
  },
  {
   "cell_type": "code",
   "execution_count": 3,
   "metadata": {
    "collapsed": false
   },
   "outputs": [],
   "source": [
    "location = geolocator.geocode('106 Corbett Avenue, SF')"
   ]
  },
  {
   "cell_type": "code",
   "execution_count": 4,
   "metadata": {
    "collapsed": false
   },
   "outputs": [
    {
     "data": {
      "text/plain": [
       "37.7538681428571"
      ]
     },
     "execution_count": 4,
     "metadata": {},
     "output_type": "execute_result"
    }
   ],
   "source": [
    "location.latitude"
   ]
  },
  {
   "cell_type": "code",
   "execution_count": 5,
   "metadata": {
    "collapsed": true
   },
   "outputs": [],
   "source": [
    "import pandas as pd"
   ]
  },
  {
   "cell_type": "code",
   "execution_count": 6,
   "metadata": {
    "collapsed": false
   },
   "outputs": [
    {
     "name": "stderr",
     "output_type": "stream",
     "text": [
      "/usr/local/lib/python3.4/site-packages/pandas/io/parsers.py:1164: DtypeWarning: Columns (4,24,25,26) have mixed types. Specify dtype option on import or set low_memory=False.\n",
      "  data = self._reader.read(nrows)\n"
     ]
    }
   ],
   "source": [
    "data = pd.read_csv('./Eviction_Notices.csv')"
   ]
  },
  {
   "cell_type": "code",
   "execution_count": 7,
   "metadata": {
    "collapsed": false
   },
   "outputs": [],
   "source": [
    "data['days'] = pd.to_datetime(data['File Date'])"
   ]
  },
  {
   "cell_type": "code",
   "execution_count": 8,
   "metadata": {
    "collapsed": false
   },
   "outputs": [],
   "source": [
    "data.days = data.days.map(lambda x: (pd.to_datetime('2015-05-15') - x).days)"
   ]
  },
  {
   "cell_type": "code",
   "execution_count": null,
   "metadata": {
    "collapsed": false
   },
   "outputs": [],
   "source": []
  },
  {
   "cell_type": "code",
   "execution_count": 9,
   "metadata": {
    "collapsed": false
   },
   "outputs": [],
   "source": [
    "def clean(x):\n",
    "    try:\n",
    "        split = x[1:-1].split(',')\n",
    "        return float(split[0])\n",
    "    except Exception:\n",
    "        pass"
   ]
  },
  {
   "cell_type": "code",
   "execution_count": 10,
   "metadata": {
    "collapsed": false
   },
   "outputs": [],
   "source": [
    "data['lat'] = data.Client_Location.map(lambda x: clean(x))"
   ]
  },
  {
   "cell_type": "code",
   "execution_count": 11,
   "metadata": {
    "collapsed": false
   },
   "outputs": [],
   "source": [
    "def clean(x):\n",
    "    try:\n",
    "        split = x[1:-1].split(',')\n",
    "        return float(split[1])\n",
    "    except Exception:\n",
    "        pass"
   ]
  },
  {
   "cell_type": "code",
   "execution_count": 12,
   "metadata": {
    "collapsed": true
   },
   "outputs": [],
   "source": [
    "data['lon'] = data.Client_Location.map(lambda x: clean(x))"
   ]
  },
  {
   "cell_type": "code",
   "execution_count": 13,
   "metadata": {
    "collapsed": false
   },
   "outputs": [],
   "source": [
    "data = data[data.lon < 0]"
   ]
  },
  {
   "cell_type": "code",
   "execution_count": 14,
   "metadata": {
    "collapsed": false
   },
   "outputs": [],
   "source": [
    "data = data[data.lat > 0]"
   ]
  },
  {
   "cell_type": "code",
   "execution_count": 15,
   "metadata": {
    "collapsed": false,
    "scrolled": true
   },
   "outputs": [
    {
     "name": "stdout",
     "output_type": "stream",
     "text": [
      "<class 'pandas.core.frame.DataFrame'>\n",
      "Int64Index: 32623 entries, 0 to 33240\n",
      "Data columns (total 33 columns):\n",
      "Eviction_ID                32623 non-null object\n",
      "Address                    32623 non-null object\n",
      "City                       32622 non-null object\n",
      "State                      32623 non-null object\n",
      "Zip                        31837 non-null object\n",
      "File Date                  32623 non-null object\n",
      "Non Payment                32623 non-null bool\n",
      "Breach                     32623 non-null bool\n",
      "Nuisance                   32623 non-null bool\n",
      "Illegal Use                32623 non-null bool\n",
      "Failure to Sign Renewal    32623 non-null bool\n",
      "Access Denial              32623 non-null bool\n",
      "Unapproved Subtenant       32623 non-null bool\n",
      "Owner Move In              32623 non-null bool\n",
      "Demolition                 32623 non-null bool\n",
      "Capital Improvement        32623 non-null bool\n",
      "Substantial Rehab          32623 non-null bool\n",
      "Ellis Act WithDrawal       32623 non-null bool\n",
      "Condo Conversion           32623 non-null bool\n",
      "Roommate Same Unit         32623 non-null bool\n",
      "Other Cause                32623 non-null bool\n",
      "Late Payments              32623 non-null bool\n",
      "Lead Remediation           32623 non-null bool\n",
      "Development                32623 non-null bool\n",
      "Good Samaritan Ends        1 non-null object\n",
      "Constraints                32623 non-null object\n",
      "Constraints Date           2910 non-null object\n",
      "Supervisor_District        32614 non-null float64\n",
      "Neighborhood               32614 non-null object\n",
      "Client_Location            32623 non-null object\n",
      "days                       32623 non-null int64\n",
      "lat                        32623 non-null float64\n",
      "lon                        32623 non-null float64\n",
      "dtypes: bool(18), float64(3), int64(1), object(11)\n",
      "memory usage: 4.5+ MB\n"
     ]
    }
   ],
   "source": [
    "data.info()"
   ]
  },
  {
   "cell_type": "code",
   "execution_count": 16,
   "metadata": {
    "collapsed": false
   },
   "outputs": [
    {
     "data": {
      "text/plain": [
       "Index(['Eviction_ID', 'Address', 'City', 'State', 'Zip', 'File Date', 'Non Payment', 'Breach', 'Nuisance', 'Illegal Use', 'Failure to Sign Renewal', 'Access Denial', 'Unapproved Subtenant', 'Owner Move In', 'Demolition', 'Capital Improvement', 'Substantial Rehab', 'Ellis Act WithDrawal', 'Condo Conversion', 'Roommate Same Unit', 'Other Cause', 'Late Payments', 'Lead Remediation', 'Development', 'Good Samaritan Ends', 'Constraints', 'Constraints Date', 'Supervisor_District', 'Neighborhood', 'Client_Location', 'days', 'lat', 'lon'], dtype='object')"
      ]
     },
     "execution_count": 16,
     "metadata": {},
     "output_type": "execute_result"
    }
   ],
   "source": [
    "data.columns"
   ]
  },
  {
   "cell_type": "code",
   "execution_count": 17,
   "metadata": {
    "collapsed": true
   },
   "outputs": [],
   "source": [
    "clean = data.copy()"
   ]
  },
  {
   "cell_type": "code",
   "execution_count": 18,
   "metadata": {
    "collapsed": true
   },
   "outputs": [],
   "source": [
    "reasons = ['Non Payment', 'Breach', 'Nuisance', 'Illegal Use', 'Failure to Sign Renewal', 'Access Denial', 'Unapproved Subtenant', 'Owner Move In', 'Demolition', 'Capital Improvement', 'Substantial Rehab', 'Ellis Act WithDrawal', 'Condo Conversion', 'Roommate Same Unit', 'Other Cause', 'Late Payments', 'Lead Remediation', 'Development']"
   ]
  },
  {
   "cell_type": "code",
   "execution_count": 19,
   "metadata": {
    "collapsed": false
   },
   "outputs": [],
   "source": [
    "x = data[reasons].stack()"
   ]
  },
  {
   "cell_type": "code",
   "execution_count": 20,
   "metadata": {
    "collapsed": false
   },
   "outputs": [],
   "source": [
    "data['reason'] = pd.Series(pd.Categorical(x[x!=0].index.get_level_values(1)))"
   ]
  },
  {
   "cell_type": "code",
   "execution_count": 21,
   "metadata": {
    "collapsed": false
   },
   "outputs": [],
   "source": [
    "df = data[['lat', 'lon', 'days', 'reason']]"
   ]
  },
  {
   "cell_type": "code",
   "execution_count": 22,
   "metadata": {
    "collapsed": false
   },
   "outputs": [
    {
     "data": {
      "text/html": [
       "<div style=\"max-height:1000px;max-width:1500px;overflow:auto;\">\n",
       "<table border=\"1\" class=\"dataframe\">\n",
       "  <thead>\n",
       "    <tr style=\"text-align: right;\">\n",
       "      <th></th>\n",
       "      <th>lat</th>\n",
       "      <th>lon</th>\n",
       "      <th>days</th>\n",
       "      <th>reason</th>\n",
       "    </tr>\n",
       "  </thead>\n",
       "  <tbody>\n",
       "    <tr>\n",
       "      <th>0</th>\n",
       "      <td>37.794134</td>\n",
       "      <td>-122.417956</td>\n",
       "      <td>45</td>\n",
       "      <td>Nuisance</td>\n",
       "    </tr>\n",
       "    <tr>\n",
       "      <th>1</th>\n",
       "      <td>37.764190</td>\n",
       "      <td>-122.420438</td>\n",
       "      <td>45</td>\n",
       "      <td>Non Payment</td>\n",
       "    </tr>\n",
       "    <tr>\n",
       "      <th>2</th>\n",
       "      <td>37.775926</td>\n",
       "      <td>-122.424579</td>\n",
       "      <td>45</td>\n",
       "      <td>Access Denial</td>\n",
       "    </tr>\n",
       "    <tr>\n",
       "      <th>3</th>\n",
       "      <td>37.773209</td>\n",
       "      <td>-122.402243</td>\n",
       "      <td>45</td>\n",
       "      <td>Other Cause</td>\n",
       "    </tr>\n",
       "    <tr>\n",
       "      <th>4</th>\n",
       "      <td>37.782804</td>\n",
       "      <td>-122.454488</td>\n",
       "      <td>45</td>\n",
       "      <td>Nuisance</td>\n",
       "    </tr>\n",
       "  </tbody>\n",
       "</table>\n",
       "</div>"
      ],
      "text/plain": [
       "         lat         lon  days         reason\n",
       "0  37.794134 -122.417956    45       Nuisance\n",
       "1  37.764190 -122.420438    45    Non Payment\n",
       "2  37.775926 -122.424579    45  Access Denial\n",
       "3  37.773209 -122.402243    45    Other Cause\n",
       "4  37.782804 -122.454488    45       Nuisance"
      ]
     },
     "execution_count": 22,
     "metadata": {},
     "output_type": "execute_result"
    }
   ],
   "source": [
    "df.head()"
   ]
  },
  {
   "cell_type": "code",
   "execution_count": 27,
   "metadata": {
    "collapsed": false
   },
   "outputs": [
    {
     "data": {
      "text/plain": [
       "0                    Nuisance\n",
       "1                 Non Payment\n",
       "2               Access Denial\n",
       "3                 Other Cause\n",
       "4                    Nuisance\n",
       "5                      Breach\n",
       "6                      Breach\n",
       "7                      Breach\n",
       "8               Access Denial\n",
       "9               Owner Move In\n",
       "10                     Breach\n",
       "11                 Demolition\n",
       "12                   Nuisance\n",
       "13                   Nuisance\n",
       "14                     Breach\n",
       "15       Unapproved Subtenant\n",
       "16              Owner Move In\n",
       "17                     Breach\n",
       "18              Owner Move In\n",
       "19                     Breach\n",
       "20                Other Cause\n",
       "21                     Breach\n",
       "22                     Breach\n",
       "23              Owner Move In\n",
       "24                     Breach\n",
       "25                     Breach\n",
       "26                Non Payment\n",
       "27        Capital Improvement\n",
       "28                     Breach\n",
       "29        Capital Improvement\n",
       "                 ...         \n",
       "33209           Owner Move In\n",
       "33210           Owner Move In\n",
       "33211                  Breach\n",
       "33212           Owner Move In\n",
       "33213           Owner Move In\n",
       "33214              Demolition\n",
       "33215             Other Cause\n",
       "33216           Owner Move In\n",
       "33217           Owner Move In\n",
       "33219           Owner Move In\n",
       "33220           Owner Move In\n",
       "33221      Roommate Same Unit\n",
       "33222                  Breach\n",
       "33223           Owner Move In\n",
       "33225           Owner Move In\n",
       "33226           Owner Move In\n",
       "33227                Nuisance\n",
       "33228           Owner Move In\n",
       "33229             Other Cause\n",
       "33230           Owner Move In\n",
       "33231           Owner Move In\n",
       "33232           Owner Move In\n",
       "33233                  Breach\n",
       "33234           Owner Move In\n",
       "33235           Owner Move In\n",
       "33236           Owner Move In\n",
       "33237                  Breach\n",
       "33238                Nuisance\n",
       "33239           Owner Move In\n",
       "33240              Demolition\n",
       "Name: reason, dtype: object"
      ]
     },
     "execution_count": 27,
     "metadata": {},
     "output_type": "execute_result"
    }
   ],
   "source": [
    "df.reason.astype('object', inplace=True)"
   ]
  },
  {
   "cell_type": "code",
   "execution_count": 28,
   "metadata": {
    "collapsed": false
   },
   "outputs": [
    {
     "name": "stdout",
     "output_type": "stream",
     "text": [
      "<class 'pandas.core.frame.DataFrame'>\n",
      "Int64Index: 32623 entries, 0 to 33240\n",
      "Data columns (total 4 columns):\n",
      "lat       32623 non-null float64\n",
      "lon       32623 non-null float64\n",
      "days      32623 non-null int64\n",
      "reason    32623 non-null object\n",
      "dtypes: float64(2), int64(1), object(1)\n",
      "memory usage: 1.2+ MB\n"
     ]
    }
   ],
   "source": [
    "df.info()"
   ]
  },
  {
   "cell_type": "code",
   "execution_count": 29,
   "metadata": {
    "collapsed": true
   },
   "outputs": [],
   "source": [
    "from sklearn.preprocessing import MinMaxScaler, Normalizer\n",
    "\n",
    "scaler = MinMaxScaler()\n",
    "n = Normalizer()"
   ]
  },
  {
   "cell_type": "code",
   "execution_count": 42,
   "metadata": {
    "collapsed": false
   },
   "outputs": [
    {
     "name": "stderr",
     "output_type": "stream",
     "text": [
      "/usr/local/lib/python3.4/site-packages/IPython/kernel/__main__.py:1: SettingWithCopyWarning: \n",
      "A value is trying to be set on a copy of a slice from a DataFrame.\n",
      "Try using .loc[row_indexer,col_indexer] = value instead\n",
      "\n",
      "See the the caveats in the documentation: http://pandas.pydata.org/pandas-docs/stable/indexing.html#indexing-view-versus-copy\n",
      "  if __name__ == '__main__':\n",
      "/usr/local/lib/python3.4/site-packages/pandas/core/indexing.py:411: SettingWithCopyWarning: \n",
      "A value is trying to be set on a copy of a slice from a DataFrame.\n",
      "Try using .loc[row_indexer,col_indexer] = value instead\n",
      "\n",
      "See the the caveats in the documentation: http://pandas.pydata.org/pandas-docs/stable/indexing.html#indexing-view-versus-copy\n",
      "  self.obj[item] = s\n"
     ]
    }
   ],
   "source": [
    "df[['lon', 'lat', 'days']] = scaler.fit_transform(df[['lon', 'lat', 'days']]) -.5"
   ]
  },
  {
   "cell_type": "code",
   "execution_count": 43,
   "metadata": {
    "collapsed": false
   },
   "outputs": [
    {
     "data": {
      "text/html": [
       "<div style=\"max-height:1000px;max-width:1500px;overflow:auto;\">\n",
       "<table border=\"1\" class=\"dataframe\">\n",
       "  <thead>\n",
       "    <tr style=\"text-align: right;\">\n",
       "      <th></th>\n",
       "      <th>lat</th>\n",
       "      <th>lon</th>\n",
       "      <th>days</th>\n",
       "      <th>reason</th>\n",
       "    </tr>\n",
       "  </thead>\n",
       "  <tbody>\n",
       "    <tr>\n",
       "      <th>0</th>\n",
       "      <td>0.196697</td>\n",
       "      <td>0.131036</td>\n",
       "      <td>-0.5</td>\n",
       "      <td>Nuisance</td>\n",
       "    </tr>\n",
       "    <tr>\n",
       "      <th>1</th>\n",
       "      <td>-0.045288</td>\n",
       "      <td>0.114216</td>\n",
       "      <td>-0.5</td>\n",
       "      <td>Non Payment</td>\n",
       "    </tr>\n",
       "    <tr>\n",
       "      <th>2</th>\n",
       "      <td>0.049554</td>\n",
       "      <td>0.086153</td>\n",
       "      <td>-0.5</td>\n",
       "      <td>Access Denial</td>\n",
       "    </tr>\n",
       "    <tr>\n",
       "      <th>3</th>\n",
       "      <td>0.027600</td>\n",
       "      <td>0.237513</td>\n",
       "      <td>-0.5</td>\n",
       "      <td>Other Cause</td>\n",
       "    </tr>\n",
       "    <tr>\n",
       "      <th>4</th>\n",
       "      <td>0.105133</td>\n",
       "      <td>-0.116522</td>\n",
       "      <td>-0.5</td>\n",
       "      <td>Nuisance</td>\n",
       "    </tr>\n",
       "  </tbody>\n",
       "</table>\n",
       "</div>"
      ],
      "text/plain": [
       "        lat       lon  days         reason\n",
       "0  0.196697  0.131036  -0.5       Nuisance\n",
       "1 -0.045288  0.114216  -0.5    Non Payment\n",
       "2  0.049554  0.086153  -0.5  Access Denial\n",
       "3  0.027600  0.237513  -0.5    Other Cause\n",
       "4  0.105133 -0.116522  -0.5       Nuisance"
      ]
     },
     "execution_count": 43,
     "metadata": {},
     "output_type": "execute_result"
    }
   ],
   "source": [
    "df.head()"
   ]
  },
  {
   "cell_type": "code",
   "execution_count": 44,
   "metadata": {
    "collapsed": false
   },
   "outputs": [
    {
     "name": "stdout",
     "output_type": "stream",
     "text": [
      "<class 'pandas.core.frame.DataFrame'>\n",
      "Int64Index: 32623 entries, 0 to 33240\n",
      "Data columns (total 4 columns):\n",
      "lat       32623 non-null float64\n",
      "lon       32623 non-null float64\n",
      "days      32623 non-null float64\n",
      "reason    32623 non-null object\n",
      "dtypes: float64(3), object(1)\n",
      "memory usage: 1.2+ MB\n"
     ]
    }
   ],
   "source": [
    "df.info()"
   ]
  },
  {
   "cell_type": "code",
   "execution_count": 45,
   "metadata": {
    "collapsed": true
   },
   "outputs": [],
   "source": [
    "df.to_json('evictions.json')"
   ]
  },
  {
   "cell_type": "code",
   "execution_count": 46,
   "metadata": {
    "collapsed": false
   },
   "outputs": [
    {
     "data": {
      "text/plain": [
       "count    32623.000000\n",
       "mean         0.050855\n",
       "std          0.308519\n",
       "min         -0.500000\n",
       "25%         -0.228760\n",
       "50%          0.094866\n",
       "75%          0.329180\n",
       "max          0.500000\n",
       "Name: days, dtype: float64"
      ]
     },
     "execution_count": 46,
     "metadata": {},
     "output_type": "execute_result"
    }
   ],
   "source": [
    "df.days.describe()"
   ]
  },
  {
   "cell_type": "code",
   "execution_count": 41,
   "metadata": {
    "collapsed": false
   },
   "outputs": [
    {
     "data": {
      "text/plain": [
       "33240    01/02/1997\n",
       "Name: File Date, dtype: object"
      ]
     },
     "execution_count": 41,
     "metadata": {},
     "output_type": "execute_result"
    }
   ],
   "source": [
    "data['File Date'][-1:]\n"
   ]
  },
  {
   "cell_type": "code",
   "execution_count": null,
   "metadata": {
    "collapsed": true
   },
   "outputs": [],
   "source": []
  }
 ],
 "metadata": {
  "kernelspec": {
   "display_name": "Python 3",
   "language": "python",
   "name": "python3"
  },
  "language_info": {
   "codemirror_mode": {
    "name": "ipython",
    "version": 3
   },
   "file_extension": ".py",
   "mimetype": "text/x-python",
   "name": "python",
   "nbconvert_exporter": "python",
   "pygments_lexer": "ipython3",
   "version": "3.4.3"
  }
 },
 "nbformat": 4,
 "nbformat_minor": 0
}
