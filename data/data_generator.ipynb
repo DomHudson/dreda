{
 "cells": [
  {
   "cell_type": "code",
   "execution_count": 1,
   "metadata": {
    "collapsed": true
   },
   "outputs": [],
   "source": [
    "# Sample data set"
   ]
  },
  {
   "cell_type": "code",
   "execution_count": 3,
   "metadata": {
    "collapsed": false
   },
   "outputs": [],
   "source": [
    "import pandas as pd\n",
    "import numpy as np"
   ]
  },
  {
   "cell_type": "code",
   "execution_count": 197,
   "metadata": {
    "collapsed": false
   },
   "outputs": [
    {
     "data": {
      "text/plain": [
       "array([-154.75261393,   88.10415276,  -27.02619362,  -62.38420781,\n",
       "        207.60125871,  -54.5971419 ,   59.7592333 ,   66.39017733,\n",
       "        170.31097444,  -53.92977673,  -42.81251321,   48.23936978,\n",
       "          3.09423633,  -40.76538398,   64.62777373,  -16.72581051,\n",
       "        192.4580214 ,   70.57121928,  -48.23455373,  232.15604867,\n",
       "        140.59916269,  -96.30907798,   15.19783691,   63.39219305,\n",
       "        -44.21924468,   76.95544295, -108.71193669,  -37.07222943,\n",
       "        -36.8609713 ,  -64.46681008,   66.8995653 , -116.11517918,\n",
       "       -166.93385173,   22.6295865 ,   10.68190205,  -86.85692671,\n",
       "        -73.87703143, -135.6311631 , -167.51886899,  -25.18221451,\n",
       "        -35.91808289,   57.69610254,  -90.77327477,   50.73503394,\n",
       "        118.31780903,  -52.9292715 , -204.34072127,   35.6617242 ,\n",
       "        341.24946082,   59.85678884,  127.34085023, -158.50821911,\n",
       "       -142.97060586,    0.53307951,  -68.24710458,  -28.8069398 ,\n",
       "         46.76303358,   36.25047453,    3.12704932,   77.48642886,\n",
       "       -212.58855427,   87.34346071,  -96.57967196,  121.47453845,\n",
       "        -61.7524781 ,  -84.80140207,   95.97777174,   19.16619129,\n",
       "        126.81069724,  146.74463422,   35.44528018,   60.03739963,\n",
       "         66.4564325 , -147.75952058,  109.17400756,   80.0223814 ,\n",
       "         27.85541989, -149.30678718,  138.02203293, -143.1768639 ,\n",
       "         -6.70787394,  -15.94022298,   -7.56561875,  -28.28794014,\n",
       "        -42.06606962, -113.33072335,  122.46529296,  -35.45035276,\n",
       "         20.01499815,  227.31329594,  131.715933  ,  129.04583933,\n",
       "        142.38087886,  -59.91818891,   20.7840485 , -114.01402404,\n",
       "         92.11153966,  -12.0200727 , -113.12273736, -150.77133148])"
      ]
     },
     "execution_count": 197,
     "metadata": {},
     "output_type": "execute_result"
    }
   ],
   "source": [
    "np.random.randn(100) * 100"
   ]
  },
  {
   "cell_type": "code",
   "execution_count": 187,
   "metadata": {
    "collapsed": false
   },
   "outputs": [],
   "source": [
    "cluster_id = np.random.choice(5, 100)"
   ]
  },
  {
   "cell_type": "code",
   "execution_count": 198,
   "metadata": {
    "collapsed": false
   },
   "outputs": [],
   "source": [
    "df = pd.DataFrame([np.random.randn(100) * 100, np.random.randn(100) * 100, np.random.randn(100) * 100, cluster_id])"
   ]
  },
  {
   "cell_type": "code",
   "execution_count": 199,
   "metadata": {
    "collapsed": false
   },
   "outputs": [],
   "source": [
    "df = df.T"
   ]
  },
  {
   "cell_type": "code",
   "execution_count": 200,
   "metadata": {
    "collapsed": false
   },
   "outputs": [],
   "source": [
    "df.columns=['x','y','z','cid']"
   ]
  },
  {
   "cell_type": "code",
   "execution_count": 201,
   "metadata": {
    "collapsed": false
   },
   "outputs": [
    {
     "data": {
      "text/html": [
       "<div style=\"max-height:1000px;max-width:1500px;overflow:auto;\">\n",
       "<table border=\"1\" class=\"dataframe\">\n",
       "  <thead>\n",
       "    <tr style=\"text-align: right;\">\n",
       "      <th></th>\n",
       "      <th>x</th>\n",
       "      <th>y</th>\n",
       "      <th>z</th>\n",
       "      <th>cid</th>\n",
       "    </tr>\n",
       "  </thead>\n",
       "  <tbody>\n",
       "    <tr>\n",
       "      <th>0</th>\n",
       "      <td>-164.013638</td>\n",
       "      <td>-46.173156</td>\n",
       "      <td>-195.543069</td>\n",
       "      <td>2</td>\n",
       "    </tr>\n",
       "    <tr>\n",
       "      <th>1</th>\n",
       "      <td>201.258384</td>\n",
       "      <td>-83.569181</td>\n",
       "      <td>-90.638183</td>\n",
       "      <td>1</td>\n",
       "    </tr>\n",
       "    <tr>\n",
       "      <th>2</th>\n",
       "      <td>38.777638</td>\n",
       "      <td>52.321205</td>\n",
       "      <td>94.826657</td>\n",
       "      <td>2</td>\n",
       "    </tr>\n",
       "    <tr>\n",
       "      <th>3</th>\n",
       "      <td>44.874468</td>\n",
       "      <td>-92.993127</td>\n",
       "      <td>-41.805962</td>\n",
       "      <td>1</td>\n",
       "    </tr>\n",
       "    <tr>\n",
       "      <th>4</th>\n",
       "      <td>28.777661</td>\n",
       "      <td>151.573230</td>\n",
       "      <td>-1.212601</td>\n",
       "      <td>3</td>\n",
       "    </tr>\n",
       "  </tbody>\n",
       "</table>\n",
       "</div>"
      ],
      "text/plain": [
       "            x           y           z  cid\n",
       "0 -164.013638  -46.173156 -195.543069    2\n",
       "1  201.258384  -83.569181  -90.638183    1\n",
       "2   38.777638   52.321205   94.826657    2\n",
       "3   44.874468  -92.993127  -41.805962    1\n",
       "4   28.777661  151.573230   -1.212601    3"
      ]
     },
     "execution_count": 201,
     "metadata": {},
     "output_type": "execute_result"
    }
   ],
   "source": [
    "df.head()"
   ]
  },
  {
   "cell_type": "code",
   "execution_count": 202,
   "metadata": {
    "collapsed": false
   },
   "outputs": [
    {
     "name": "stdout",
     "output_type": "stream",
     "text": [
      "<class 'pandas.core.frame.DataFrame'>\n",
      "Int64Index: 100 entries, 0 to 99\n",
      "Data columns (total 4 columns):\n",
      "x      100 non-null float64\n",
      "y      100 non-null float64\n",
      "z      100 non-null float64\n",
      "cid    100 non-null float64\n",
      "dtypes: float64(4)\n",
      "memory usage: 3.9 KB\n"
     ]
    }
   ],
   "source": [
    "df.info()"
   ]
  },
  {
   "cell_type": "code",
   "execution_count": 203,
   "metadata": {
    "collapsed": true
   },
   "outputs": [],
   "source": [
    "df.to_json('sample_data.json')"
   ]
  },
  {
   "cell_type": "code",
   "execution_count": 204,
   "metadata": {
    "collapsed": false
   },
   "outputs": [
    {
     "name": "stdout",
     "output_type": "stream",
     "text": [
      "data_generator.ipynb sample_data.json\r\n"
     ]
    }
   ],
   "source": [
    "! ls"
   ]
  },
  {
   "cell_type": "code",
   "execution_count": null,
   "metadata": {
    "collapsed": true
   },
   "outputs": [],
   "source": []
  }
 ],
 "metadata": {
  "kernelspec": {
   "display_name": "Python 3",
   "language": "python",
   "name": "python3"
  },
  "language_info": {
   "codemirror_mode": {
    "name": "ipython",
    "version": 3
   },
   "file_extension": ".py",
   "mimetype": "text/x-python",
   "name": "python",
   "nbconvert_exporter": "python",
   "pygments_lexer": "ipython3",
   "version": "3.4.3"
  }
 },
 "nbformat": 4,
 "nbformat_minor": 0
}
