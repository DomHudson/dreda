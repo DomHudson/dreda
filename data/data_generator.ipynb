{
 "cells": [
  {
   "cell_type": "code",
   "execution_count": 3,
   "metadata": {
    "collapsed": true
   },
   "outputs": [],
   "source": [
    "# Sample data set"
   ]
  },
  {
   "cell_type": "code",
   "execution_count": 4,
   "metadata": {
    "collapsed": false
   },
   "outputs": [],
   "source": [
    "import pandas as pd\n",
    "import numpy as np"
   ]
  },
  {
   "cell_type": "code",
   "execution_count": 5,
   "metadata": {
    "collapsed": true
   },
   "outputs": [],
   "source": [
    "# number of data points\n",
    "n = 5000"
   ]
  },
  {
   "cell_type": "code",
   "execution_count": 6,
   "metadata": {
    "collapsed": false
   },
   "outputs": [
    {
     "data": {
      "text/plain": [
       "array([ 150.17210016,  -36.23295406,    2.69488788, ...,  187.23705128,\n",
       "         34.18064379, -112.57893446])"
      ]
     },
     "execution_count": 6,
     "metadata": {},
     "output_type": "execute_result"
    }
   ],
   "source": [
    "np.random.randn(n) * 100"
   ]
  },
  {
   "cell_type": "code",
   "execution_count": 7,
   "metadata": {
    "collapsed": false
   },
   "outputs": [],
   "source": [
    "cluster_id = np.random.choice(5, n)"
   ]
  },
  {
   "cell_type": "code",
   "execution_count": 8,
   "metadata": {
    "collapsed": false
   },
   "outputs": [],
   "source": [
    "df = pd.DataFrame([np.random.randn(n) * 100, np.random.randn(n) * 100, np.random.randn(n) * 100, cluster_id])"
   ]
  },
  {
   "cell_type": "code",
   "execution_count": 9,
   "metadata": {
    "collapsed": false
   },
   "outputs": [],
   "source": [
    "df = df.T"
   ]
  },
  {
   "cell_type": "code",
   "execution_count": 10,
   "metadata": {
    "collapsed": false
   },
   "outputs": [],
   "source": [
    "df.columns=['x','y','z','cid']"
   ]
  },
  {
   "cell_type": "code",
   "execution_count": 11,
   "metadata": {
    "collapsed": false
   },
   "outputs": [
    {
     "data": {
      "text/html": [
       "<div style=\"max-height:1000px;max-width:1500px;overflow:auto;\">\n",
       "<table border=\"1\" class=\"dataframe\">\n",
       "  <thead>\n",
       "    <tr style=\"text-align: right;\">\n",
       "      <th></th>\n",
       "      <th>x</th>\n",
       "      <th>y</th>\n",
       "      <th>z</th>\n",
       "      <th>cid</th>\n",
       "    </tr>\n",
       "  </thead>\n",
       "  <tbody>\n",
       "    <tr>\n",
       "      <th>1</th>\n",
       "      <td>101.055549</td>\n",
       "      <td>93.849605</td>\n",
       "      <td>-48.492133</td>\n",
       "      <td>0</td>\n",
       "    </tr>\n",
       "    <tr>\n",
       "      <th>2</th>\n",
       "      <td>-119.796582</td>\n",
       "      <td>-62.376953</td>\n",
       "      <td>-213.210109</td>\n",
       "      <td>0</td>\n",
       "    </tr>\n",
       "    <tr>\n",
       "      <th>0</th>\n",
       "      <td>-71.689793</td>\n",
       "      <td>316.066252</td>\n",
       "      <td>-26.368933</td>\n",
       "      <td>1</td>\n",
       "    </tr>\n",
       "    <tr>\n",
       "      <th>3</th>\n",
       "      <td>-78.437437</td>\n",
       "      <td>89.861954</td>\n",
       "      <td>89.781839</td>\n",
       "      <td>1</td>\n",
       "    </tr>\n",
       "    <tr>\n",
       "      <th>4</th>\n",
       "      <td>146.871965</td>\n",
       "      <td>-44.010237</td>\n",
       "      <td>-76.457877</td>\n",
       "      <td>1</td>\n",
       "    </tr>\n",
       "  </tbody>\n",
       "</table>\n",
       "</div>"
      ],
      "text/plain": [
       "            x           y           z  cid\n",
       "1  101.055549   93.849605  -48.492133    0\n",
       "2 -119.796582  -62.376953 -213.210109    0\n",
       "0  -71.689793  316.066252  -26.368933    1\n",
       "3  -78.437437   89.861954   89.781839    1\n",
       "4  146.871965  -44.010237  -76.457877    1"
      ]
     },
     "execution_count": 11,
     "metadata": {},
     "output_type": "execute_result"
    }
   ],
   "source": [
    "df.head().sort(['cid'])"
   ]
  },
  {
   "cell_type": "code",
   "execution_count": 12,
   "metadata": {
    "collapsed": false
   },
   "outputs": [
    {
     "name": "stdout",
     "output_type": "stream",
     "text": [
      "<class 'pandas.core.frame.DataFrame'>\n",
      "Int64Index: 5000 entries, 0 to 4999\n",
      "Data columns (total 4 columns):\n",
      "x      5000 non-null float64\n",
      "y      5000 non-null float64\n",
      "z      5000 non-null float64\n",
      "cid    5000 non-null float64\n",
      "dtypes: float64(4)\n",
      "memory usage: 195.3 KB\n"
     ]
    }
   ],
   "source": [
    "df.info()"
   ]
  },
  {
   "cell_type": "code",
   "execution_count": 13,
   "metadata": {
    "collapsed": false
   },
   "outputs": [],
   "source": [
    "    df.to_json('sample_data.json')"
   ]
  },
  {
   "cell_type": "code",
   "execution_count": 14,
   "metadata": {
    "collapsed": false
   },
   "outputs": [
    {
     "name": "stdout",
     "output_type": "stream",
     "text": [
      "data_generator.ipynb disc.png             sample_data.json\r\n",
      "demo.webm            iris.json\r\n"
     ]
    }
   ],
   "source": [
    "! ls"
   ]
  },
  {
   "cell_type": "code",
   "execution_count": 49,
   "metadata": {
    "collapsed": false
   },
   "outputs": [],
   "source": [
    "from sklearn import datasets\n",
    "from sklearn.cluster import KMeans\n",
    "\n",
    "iris = datasets.load_iris()\n",
    "X = iris.data\n",
    "Y = iris.target\n",
    "\n",
    "estimator = KMeans(3)\n",
    "estimator.fit(X)\n",
    "\n",
    "# Create Data Frame of x, y, z (petal length, sepal length, pedal width or something)\n",
    "# Transpose to make the rows the points (thats the T)\n",
    "# Multiply by 100 to make it a nice size\n",
    "iris_df = pd.DataFrame([X[:, 3], X[:, 0], X[:, 2]]).T"
   ]
  },
  {
   "cell_type": "code",
   "execution_count": 50,
   "metadata": {
    "collapsed": false
   },
   "outputs": [
    {
     "data": {
      "text/html": [
       "<div style=\"max-height:1000px;max-width:1500px;overflow:auto;\">\n",
       "<table border=\"1\" class=\"dataframe\">\n",
       "  <thead>\n",
       "    <tr style=\"text-align: right;\">\n",
       "      <th></th>\n",
       "      <th>0</th>\n",
       "      <th>1</th>\n",
       "      <th>2</th>\n",
       "    </tr>\n",
       "  </thead>\n",
       "  <tbody>\n",
       "    <tr>\n",
       "      <th>0</th>\n",
       "      <td>0.2</td>\n",
       "      <td>5.1</td>\n",
       "      <td>1.4</td>\n",
       "    </tr>\n",
       "    <tr>\n",
       "      <th>1</th>\n",
       "      <td>0.2</td>\n",
       "      <td>4.9</td>\n",
       "      <td>1.4</td>\n",
       "    </tr>\n",
       "    <tr>\n",
       "      <th>2</th>\n",
       "      <td>0.2</td>\n",
       "      <td>4.7</td>\n",
       "      <td>1.3</td>\n",
       "    </tr>\n",
       "    <tr>\n",
       "      <th>3</th>\n",
       "      <td>0.2</td>\n",
       "      <td>4.6</td>\n",
       "      <td>1.5</td>\n",
       "    </tr>\n",
       "    <tr>\n",
       "      <th>4</th>\n",
       "      <td>0.2</td>\n",
       "      <td>5.0</td>\n",
       "      <td>1.4</td>\n",
       "    </tr>\n",
       "  </tbody>\n",
       "</table>\n",
       "</div>"
      ],
      "text/plain": [
       "     0    1    2\n",
       "0  0.2  5.1  1.4\n",
       "1  0.2  4.9  1.4\n",
       "2  0.2  4.7  1.3\n",
       "3  0.2  4.6  1.5\n",
       "4  0.2  5.0  1.4"
      ]
     },
     "execution_count": 50,
     "metadata": {},
     "output_type": "execute_result"
    }
   ],
   "source": [
    "iris_df.head()"
   ]
  },
  {
   "cell_type": "code",
   "execution_count": 51,
   "metadata": {
    "collapsed": true
   },
   "outputs": [],
   "source": [
    "# Add colors\n",
    "iris_df['c'] = estimator.labels_"
   ]
  },
  {
   "cell_type": "code",
   "execution_count": 52,
   "metadata": {
    "collapsed": false
   },
   "outputs": [
    {
     "data": {
      "text/plain": [
       "0    62\n",
       "1    50\n",
       "2    38\n",
       "dtype: int64"
      ]
     },
     "execution_count": 52,
     "metadata": {},
     "output_type": "execute_result"
    }
   ],
   "source": [
    "iris_df.c.value_counts()"
   ]
  },
  {
   "cell_type": "code",
   "execution_count": 53,
   "metadata": {
    "collapsed": true
   },
   "outputs": [],
   "source": [
    "iris_df.to_json('iris.json')"
   ]
  },
  {
   "cell_type": "code",
   "execution_count": 54,
   "metadata": {
    "collapsed": false
   },
   "outputs": [
    {
     "data": {
      "text/html": [
       "<div style=\"max-height:1000px;max-width:1500px;overflow:auto;\">\n",
       "<table border=\"1\" class=\"dataframe\">\n",
       "  <thead>\n",
       "    <tr style=\"text-align: right;\">\n",
       "      <th></th>\n",
       "      <th>0</th>\n",
       "      <th>1</th>\n",
       "      <th>2</th>\n",
       "      <th>c</th>\n",
       "    </tr>\n",
       "  </thead>\n",
       "  <tbody>\n",
       "    <tr>\n",
       "      <th>0</th>\n",
       "      <td>0.2</td>\n",
       "      <td>5.1</td>\n",
       "      <td>1.4</td>\n",
       "      <td>1</td>\n",
       "    </tr>\n",
       "    <tr>\n",
       "      <th>1</th>\n",
       "      <td>0.2</td>\n",
       "      <td>4.9</td>\n",
       "      <td>1.4</td>\n",
       "      <td>1</td>\n",
       "    </tr>\n",
       "    <tr>\n",
       "      <th>2</th>\n",
       "      <td>0.2</td>\n",
       "      <td>4.7</td>\n",
       "      <td>1.3</td>\n",
       "      <td>1</td>\n",
       "    </tr>\n",
       "    <tr>\n",
       "      <th>3</th>\n",
       "      <td>0.2</td>\n",
       "      <td>4.6</td>\n",
       "      <td>1.5</td>\n",
       "      <td>1</td>\n",
       "    </tr>\n",
       "    <tr>\n",
       "      <th>4</th>\n",
       "      <td>0.2</td>\n",
       "      <td>5.0</td>\n",
       "      <td>1.4</td>\n",
       "      <td>1</td>\n",
       "    </tr>\n",
       "    <tr>\n",
       "      <th>5</th>\n",
       "      <td>0.4</td>\n",
       "      <td>5.4</td>\n",
       "      <td>1.7</td>\n",
       "      <td>1</td>\n",
       "    </tr>\n",
       "    <tr>\n",
       "      <th>6</th>\n",
       "      <td>0.3</td>\n",
       "      <td>4.6</td>\n",
       "      <td>1.4</td>\n",
       "      <td>1</td>\n",
       "    </tr>\n",
       "    <tr>\n",
       "      <th>7</th>\n",
       "      <td>0.2</td>\n",
       "      <td>5.0</td>\n",
       "      <td>1.5</td>\n",
       "      <td>1</td>\n",
       "    </tr>\n",
       "    <tr>\n",
       "      <th>8</th>\n",
       "      <td>0.2</td>\n",
       "      <td>4.4</td>\n",
       "      <td>1.4</td>\n",
       "      <td>1</td>\n",
       "    </tr>\n",
       "    <tr>\n",
       "      <th>9</th>\n",
       "      <td>0.1</td>\n",
       "      <td>4.9</td>\n",
       "      <td>1.5</td>\n",
       "      <td>1</td>\n",
       "    </tr>\n",
       "    <tr>\n",
       "      <th>10</th>\n",
       "      <td>0.2</td>\n",
       "      <td>5.4</td>\n",
       "      <td>1.5</td>\n",
       "      <td>1</td>\n",
       "    </tr>\n",
       "    <tr>\n",
       "      <th>11</th>\n",
       "      <td>0.2</td>\n",
       "      <td>4.8</td>\n",
       "      <td>1.6</td>\n",
       "      <td>1</td>\n",
       "    </tr>\n",
       "    <tr>\n",
       "      <th>12</th>\n",
       "      <td>0.1</td>\n",
       "      <td>4.8</td>\n",
       "      <td>1.4</td>\n",
       "      <td>1</td>\n",
       "    </tr>\n",
       "    <tr>\n",
       "      <th>13</th>\n",
       "      <td>0.1</td>\n",
       "      <td>4.3</td>\n",
       "      <td>1.1</td>\n",
       "      <td>1</td>\n",
       "    </tr>\n",
       "    <tr>\n",
       "      <th>14</th>\n",
       "      <td>0.2</td>\n",
       "      <td>5.8</td>\n",
       "      <td>1.2</td>\n",
       "      <td>1</td>\n",
       "    </tr>\n",
       "    <tr>\n",
       "      <th>15</th>\n",
       "      <td>0.4</td>\n",
       "      <td>5.7</td>\n",
       "      <td>1.5</td>\n",
       "      <td>1</td>\n",
       "    </tr>\n",
       "    <tr>\n",
       "      <th>16</th>\n",
       "      <td>0.4</td>\n",
       "      <td>5.4</td>\n",
       "      <td>1.3</td>\n",
       "      <td>1</td>\n",
       "    </tr>\n",
       "    <tr>\n",
       "      <th>17</th>\n",
       "      <td>0.3</td>\n",
       "      <td>5.1</td>\n",
       "      <td>1.4</td>\n",
       "      <td>1</td>\n",
       "    </tr>\n",
       "    <tr>\n",
       "      <th>18</th>\n",
       "      <td>0.3</td>\n",
       "      <td>5.7</td>\n",
       "      <td>1.7</td>\n",
       "      <td>1</td>\n",
       "    </tr>\n",
       "    <tr>\n",
       "      <th>19</th>\n",
       "      <td>0.3</td>\n",
       "      <td>5.1</td>\n",
       "      <td>1.5</td>\n",
       "      <td>1</td>\n",
       "    </tr>\n",
       "    <tr>\n",
       "      <th>20</th>\n",
       "      <td>0.2</td>\n",
       "      <td>5.4</td>\n",
       "      <td>1.7</td>\n",
       "      <td>1</td>\n",
       "    </tr>\n",
       "    <tr>\n",
       "      <th>21</th>\n",
       "      <td>0.4</td>\n",
       "      <td>5.1</td>\n",
       "      <td>1.5</td>\n",
       "      <td>1</td>\n",
       "    </tr>\n",
       "    <tr>\n",
       "      <th>22</th>\n",
       "      <td>0.2</td>\n",
       "      <td>4.6</td>\n",
       "      <td>1.0</td>\n",
       "      <td>1</td>\n",
       "    </tr>\n",
       "    <tr>\n",
       "      <th>23</th>\n",
       "      <td>0.5</td>\n",
       "      <td>5.1</td>\n",
       "      <td>1.7</td>\n",
       "      <td>1</td>\n",
       "    </tr>\n",
       "    <tr>\n",
       "      <th>24</th>\n",
       "      <td>0.2</td>\n",
       "      <td>4.8</td>\n",
       "      <td>1.9</td>\n",
       "      <td>1</td>\n",
       "    </tr>\n",
       "    <tr>\n",
       "      <th>25</th>\n",
       "      <td>0.2</td>\n",
       "      <td>5.0</td>\n",
       "      <td>1.6</td>\n",
       "      <td>1</td>\n",
       "    </tr>\n",
       "    <tr>\n",
       "      <th>26</th>\n",
       "      <td>0.4</td>\n",
       "      <td>5.0</td>\n",
       "      <td>1.6</td>\n",
       "      <td>1</td>\n",
       "    </tr>\n",
       "    <tr>\n",
       "      <th>27</th>\n",
       "      <td>0.2</td>\n",
       "      <td>5.2</td>\n",
       "      <td>1.5</td>\n",
       "      <td>1</td>\n",
       "    </tr>\n",
       "    <tr>\n",
       "      <th>28</th>\n",
       "      <td>0.2</td>\n",
       "      <td>5.2</td>\n",
       "      <td>1.4</td>\n",
       "      <td>1</td>\n",
       "    </tr>\n",
       "    <tr>\n",
       "      <th>29</th>\n",
       "      <td>0.2</td>\n",
       "      <td>4.7</td>\n",
       "      <td>1.6</td>\n",
       "      <td>1</td>\n",
       "    </tr>\n",
       "    <tr>\n",
       "      <th>...</th>\n",
       "      <td>...</td>\n",
       "      <td>...</td>\n",
       "      <td>...</td>\n",
       "      <td>...</td>\n",
       "    </tr>\n",
       "    <tr>\n",
       "      <th>120</th>\n",
       "      <td>2.3</td>\n",
       "      <td>6.9</td>\n",
       "      <td>5.7</td>\n",
       "      <td>2</td>\n",
       "    </tr>\n",
       "    <tr>\n",
       "      <th>121</th>\n",
       "      <td>2.0</td>\n",
       "      <td>5.6</td>\n",
       "      <td>4.9</td>\n",
       "      <td>0</td>\n",
       "    </tr>\n",
       "    <tr>\n",
       "      <th>122</th>\n",
       "      <td>2.0</td>\n",
       "      <td>7.7</td>\n",
       "      <td>6.7</td>\n",
       "      <td>2</td>\n",
       "    </tr>\n",
       "    <tr>\n",
       "      <th>123</th>\n",
       "      <td>1.8</td>\n",
       "      <td>6.3</td>\n",
       "      <td>4.9</td>\n",
       "      <td>0</td>\n",
       "    </tr>\n",
       "    <tr>\n",
       "      <th>124</th>\n",
       "      <td>2.1</td>\n",
       "      <td>6.7</td>\n",
       "      <td>5.7</td>\n",
       "      <td>2</td>\n",
       "    </tr>\n",
       "    <tr>\n",
       "      <th>125</th>\n",
       "      <td>1.8</td>\n",
       "      <td>7.2</td>\n",
       "      <td>6.0</td>\n",
       "      <td>2</td>\n",
       "    </tr>\n",
       "    <tr>\n",
       "      <th>126</th>\n",
       "      <td>1.8</td>\n",
       "      <td>6.2</td>\n",
       "      <td>4.8</td>\n",
       "      <td>0</td>\n",
       "    </tr>\n",
       "    <tr>\n",
       "      <th>127</th>\n",
       "      <td>1.8</td>\n",
       "      <td>6.1</td>\n",
       "      <td>4.9</td>\n",
       "      <td>0</td>\n",
       "    </tr>\n",
       "    <tr>\n",
       "      <th>128</th>\n",
       "      <td>2.1</td>\n",
       "      <td>6.4</td>\n",
       "      <td>5.6</td>\n",
       "      <td>2</td>\n",
       "    </tr>\n",
       "    <tr>\n",
       "      <th>129</th>\n",
       "      <td>1.6</td>\n",
       "      <td>7.2</td>\n",
       "      <td>5.8</td>\n",
       "      <td>2</td>\n",
       "    </tr>\n",
       "    <tr>\n",
       "      <th>130</th>\n",
       "      <td>1.9</td>\n",
       "      <td>7.4</td>\n",
       "      <td>6.1</td>\n",
       "      <td>2</td>\n",
       "    </tr>\n",
       "    <tr>\n",
       "      <th>131</th>\n",
       "      <td>2.0</td>\n",
       "      <td>7.9</td>\n",
       "      <td>6.4</td>\n",
       "      <td>2</td>\n",
       "    </tr>\n",
       "    <tr>\n",
       "      <th>132</th>\n",
       "      <td>2.2</td>\n",
       "      <td>6.4</td>\n",
       "      <td>5.6</td>\n",
       "      <td>2</td>\n",
       "    </tr>\n",
       "    <tr>\n",
       "      <th>133</th>\n",
       "      <td>1.5</td>\n",
       "      <td>6.3</td>\n",
       "      <td>5.1</td>\n",
       "      <td>0</td>\n",
       "    </tr>\n",
       "    <tr>\n",
       "      <th>134</th>\n",
       "      <td>1.4</td>\n",
       "      <td>6.1</td>\n",
       "      <td>5.6</td>\n",
       "      <td>2</td>\n",
       "    </tr>\n",
       "    <tr>\n",
       "      <th>135</th>\n",
       "      <td>2.3</td>\n",
       "      <td>7.7</td>\n",
       "      <td>6.1</td>\n",
       "      <td>2</td>\n",
       "    </tr>\n",
       "    <tr>\n",
       "      <th>136</th>\n",
       "      <td>2.4</td>\n",
       "      <td>6.3</td>\n",
       "      <td>5.6</td>\n",
       "      <td>2</td>\n",
       "    </tr>\n",
       "    <tr>\n",
       "      <th>137</th>\n",
       "      <td>1.8</td>\n",
       "      <td>6.4</td>\n",
       "      <td>5.5</td>\n",
       "      <td>2</td>\n",
       "    </tr>\n",
       "    <tr>\n",
       "      <th>138</th>\n",
       "      <td>1.8</td>\n",
       "      <td>6.0</td>\n",
       "      <td>4.8</td>\n",
       "      <td>0</td>\n",
       "    </tr>\n",
       "    <tr>\n",
       "      <th>139</th>\n",
       "      <td>2.1</td>\n",
       "      <td>6.9</td>\n",
       "      <td>5.4</td>\n",
       "      <td>2</td>\n",
       "    </tr>\n",
       "    <tr>\n",
       "      <th>140</th>\n",
       "      <td>2.4</td>\n",
       "      <td>6.7</td>\n",
       "      <td>5.6</td>\n",
       "      <td>2</td>\n",
       "    </tr>\n",
       "    <tr>\n",
       "      <th>141</th>\n",
       "      <td>2.3</td>\n",
       "      <td>6.9</td>\n",
       "      <td>5.1</td>\n",
       "      <td>2</td>\n",
       "    </tr>\n",
       "    <tr>\n",
       "      <th>142</th>\n",
       "      <td>1.9</td>\n",
       "      <td>5.8</td>\n",
       "      <td>5.1</td>\n",
       "      <td>0</td>\n",
       "    </tr>\n",
       "    <tr>\n",
       "      <th>143</th>\n",
       "      <td>2.3</td>\n",
       "      <td>6.8</td>\n",
       "      <td>5.9</td>\n",
       "      <td>2</td>\n",
       "    </tr>\n",
       "    <tr>\n",
       "      <th>144</th>\n",
       "      <td>2.5</td>\n",
       "      <td>6.7</td>\n",
       "      <td>5.7</td>\n",
       "      <td>2</td>\n",
       "    </tr>\n",
       "    <tr>\n",
       "      <th>145</th>\n",
       "      <td>2.3</td>\n",
       "      <td>6.7</td>\n",
       "      <td>5.2</td>\n",
       "      <td>2</td>\n",
       "    </tr>\n",
       "    <tr>\n",
       "      <th>146</th>\n",
       "      <td>1.9</td>\n",
       "      <td>6.3</td>\n",
       "      <td>5.0</td>\n",
       "      <td>0</td>\n",
       "    </tr>\n",
       "    <tr>\n",
       "      <th>147</th>\n",
       "      <td>2.0</td>\n",
       "      <td>6.5</td>\n",
       "      <td>5.2</td>\n",
       "      <td>2</td>\n",
       "    </tr>\n",
       "    <tr>\n",
       "      <th>148</th>\n",
       "      <td>2.3</td>\n",
       "      <td>6.2</td>\n",
       "      <td>5.4</td>\n",
       "      <td>2</td>\n",
       "    </tr>\n",
       "    <tr>\n",
       "      <th>149</th>\n",
       "      <td>1.8</td>\n",
       "      <td>5.9</td>\n",
       "      <td>5.1</td>\n",
       "      <td>0</td>\n",
       "    </tr>\n",
       "  </tbody>\n",
       "</table>\n",
       "<p>150 rows × 4 columns</p>\n",
       "</div>"
      ],
      "text/plain": [
       "       0    1    2  c\n",
       "0    0.2  5.1  1.4  1\n",
       "1    0.2  4.9  1.4  1\n",
       "2    0.2  4.7  1.3  1\n",
       "3    0.2  4.6  1.5  1\n",
       "4    0.2  5.0  1.4  1\n",
       "5    0.4  5.4  1.7  1\n",
       "6    0.3  4.6  1.4  1\n",
       "7    0.2  5.0  1.5  1\n",
       "8    0.2  4.4  1.4  1\n",
       "9    0.1  4.9  1.5  1\n",
       "10   0.2  5.4  1.5  1\n",
       "11   0.2  4.8  1.6  1\n",
       "12   0.1  4.8  1.4  1\n",
       "13   0.1  4.3  1.1  1\n",
       "14   0.2  5.8  1.2  1\n",
       "15   0.4  5.7  1.5  1\n",
       "16   0.4  5.4  1.3  1\n",
       "17   0.3  5.1  1.4  1\n",
       "18   0.3  5.7  1.7  1\n",
       "19   0.3  5.1  1.5  1\n",
       "20   0.2  5.4  1.7  1\n",
       "21   0.4  5.1  1.5  1\n",
       "22   0.2  4.6  1.0  1\n",
       "23   0.5  5.1  1.7  1\n",
       "24   0.2  4.8  1.9  1\n",
       "25   0.2  5.0  1.6  1\n",
       "26   0.4  5.0  1.6  1\n",
       "27   0.2  5.2  1.5  1\n",
       "28   0.2  5.2  1.4  1\n",
       "29   0.2  4.7  1.6  1\n",
       "..   ...  ...  ... ..\n",
       "120  2.3  6.9  5.7  2\n",
       "121  2.0  5.6  4.9  0\n",
       "122  2.0  7.7  6.7  2\n",
       "123  1.8  6.3  4.9  0\n",
       "124  2.1  6.7  5.7  2\n",
       "125  1.8  7.2  6.0  2\n",
       "126  1.8  6.2  4.8  0\n",
       "127  1.8  6.1  4.9  0\n",
       "128  2.1  6.4  5.6  2\n",
       "129  1.6  7.2  5.8  2\n",
       "130  1.9  7.4  6.1  2\n",
       "131  2.0  7.9  6.4  2\n",
       "132  2.2  6.4  5.6  2\n",
       "133  1.5  6.3  5.1  0\n",
       "134  1.4  6.1  5.6  2\n",
       "135  2.3  7.7  6.1  2\n",
       "136  2.4  6.3  5.6  2\n",
       "137  1.8  6.4  5.5  2\n",
       "138  1.8  6.0  4.8  0\n",
       "139  2.1  6.9  5.4  2\n",
       "140  2.4  6.7  5.6  2\n",
       "141  2.3  6.9  5.1  2\n",
       "142  1.9  5.8  5.1  0\n",
       "143  2.3  6.8  5.9  2\n",
       "144  2.5  6.7  5.7  2\n",
       "145  2.3  6.7  5.2  2\n",
       "146  1.9  6.3  5.0  0\n",
       "147  2.0  6.5  5.2  2\n",
       "148  2.3  6.2  5.4  2\n",
       "149  1.8  5.9  5.1  0\n",
       "\n",
       "[150 rows x 4 columns]"
      ]
     },
     "execution_count": 54,
     "metadata": {},
     "output_type": "execute_result"
    }
   ],
   "source": [
    "iris_df"
   ]
  },
  {
   "cell_type": "code",
   "execution_count": 55,
   "metadata": {
    "collapsed": true
   },
   "outputs": [],
   "source": [
    "# Color Generator"
   ]
  },
  {
   "cell_type": "code",
   "execution_count": 57,
   "metadata": {
    "collapsed": false
   },
   "outputs": [],
   "source": [
    "import seaborn as sns\n",
    "import matplotlib.pyplot as plt"
   ]
  },
  {
   "cell_type": "code",
   "execution_count": 58,
   "metadata": {
    "collapsed": true
   },
   "outputs": [],
   "source": [
    "% matplotlib inline"
   ]
  },
  {
   "cell_type": "code",
   "execution_count": 132,
   "metadata": {
    "collapsed": false
   },
   "outputs": [
    {
     "data": {
      "image/png": "[encoded data removed]",
      "text/plain": [
       "<matplotlib.figure.Figure at 0x110979080>"
      ]
     },
     "metadata": {},
     "output_type": "display_data"
    }
   ],
   "source": [
    "sns.palplot(sns.color_palette('husl', 10))"
   ]
  },
  {
   "cell_type": "code",
   "execution_count": 125,
   "metadata": {
    "collapsed": false
   },
   "outputs": [
    {
     "data": {
      "image/png": "[encoded data removed]",
      "text/plain": [
       "<matplotlib.figure.Figure at 0x1107f28d0>"
      ]
     },
     "metadata": {},
     "output_type": "display_data"
    }
   ],
   "source": [
    "sns.palplot(sns.husl_palette(8, l=.3))"
   ]
  },
  {
   "cell_type": "code",
   "execution_count": 128,
   "metadata": {
    "collapsed": false
   },
   "outputs": [
    {
     "data": {
      "image/png": "[encoded data removed]",
      "text/plain": [
       "<matplotlib.figure.Figure at 0x11090e5f8>"
      ]
     },
     "metadata": {},
     "output_type": "display_data"
    }
   ],
   "source": [
    "sns.palplot(sns.husl_palette(8, l=.7))"
   ]
  },
  {
   "cell_type": "code",
   "execution_count": 60,
   "metadata": {
    "collapsed": false
   },
   "outputs": [
    {
     "data": {
      "text/plain": [
       "[(0.9677975592919913, 0.44127456009157356, 0.5358103155058701),\n",
       " (0.9694979754285514, 0.4537284387051496, 0.40783466214891867),\n",
       " (0.9542900080364486, 0.4779505175890752, 0.1963917622115608),\n",
       " (0.8616090647292522, 0.536495730113334, 0.19548899031476086),\n",
       " (0.7930046244373694, 0.5708100522446624, 0.19489531984381053),\n",
       " (0.7350228985632719, 0.5952719904750953, 0.1944419133847522),\n",
       " (0.6804189127793346, 0.6151497514677574, 0.19405452111445337),\n",
       " (0.6234809659087222, 0.6330654918766613, 0.19369052933737949),\n",
       " (0.5571803870240879, 0.6507747739933957, 0.19331667588333168),\n",
       " (0.46810256823426116, 0.6699492535792404, 0.19289587399044988),\n",
       " (0.3126890019504329, 0.6928754610296064, 0.1923704830330379),\n",
       " (0.19645998900718342, 0.6974309119838096, 0.3614680088321782),\n",
       " (0.20125317221201128, 0.6907920815379025, 0.47966761189275336),\n",
       " (0.2047934223695329, 0.6857201900461317, 0.5491539606228022),\n",
       " (0.20774052347943134, 0.6813852191365138, 0.6002900398972028),\n",
       " (0.21044753832183283, 0.6773105080456748, 0.6433941168468681),\n",
       " (0.21316806282417172, 0.6731234926210208, 0.6838056741516414),\n",
       " (0.2161609050020783, 0.6684079809438751, 0.7255515774097884),\n",
       " (0.21979956608283252, 0.6625157876850336, 0.7732093159317208),\n",
       " (0.22480301438618688, 0.6541170341314059, 0.8343335482693295),\n",
       " (0.23299120924703914, 0.639586552066035, 0.9260706093977744),\n",
       " (0.43328034117642245, 0.6065273407962816, 0.9585467098271748),\n",
       " (0.5830408541921136, 0.5695319215803094, 0.9583591966369759),\n",
       " (0.6968456641452155, 0.5283777451706791, 0.9581680759272918),\n",
       " (0.8004936186423958, 0.47703363533737203, 0.9579547196007522),\n",
       " (0.9082572436765556, 0.40195790729656516, 0.9576909250290225),\n",
       " (0.9596479078308885, 0.3748291312853888, 0.8930044537663009),\n",
       " (0.962272393509669, 0.3976451968965351, 0.8008274363432775),\n",
       " (0.9642903119819891, 0.41420146582831974, 0.7188681186026104),\n",
       " (0.9660237860697111, 0.42783187979900156, 0.636998264206457)]"
      ]
     },
     "execution_count": 60,
     "metadata": {},
     "output_type": "execute_result"
    }
   ],
   "source": [
    "sns.color_palette('husl', 30)"
   ]
  },
  {
   "cell_type": "code",
   "execution_count": 61,
   "metadata": {
    "collapsed": true
   },
   "outputs": [],
   "source": [
    "colors = sns.color_palette('husl', 30)"
   ]
  },
  {
   "cell_type": "code",
   "execution_count": 62,
   "metadata": {
    "collapsed": false
   },
   "outputs": [
    {
     "data": {
      "text/plain": [
       "[(0.9677975592919913, 0.44127456009157356, 0.5358103155058701),\n",
       " (0.9694979754285514, 0.4537284387051496, 0.40783466214891867),\n",
       " (0.9542900080364486, 0.4779505175890752, 0.1963917622115608),\n",
       " (0.8616090647292522, 0.536495730113334, 0.19548899031476086),\n",
       " (0.7930046244373694, 0.5708100522446624, 0.19489531984381053),\n",
       " (0.7350228985632719, 0.5952719904750953, 0.1944419133847522),\n",
       " (0.6804189127793346, 0.6151497514677574, 0.19405452111445337),\n",
       " (0.6234809659087222, 0.6330654918766613, 0.19369052933737949),\n",
       " (0.5571803870240879, 0.6507747739933957, 0.19331667588333168),\n",
       " (0.46810256823426116, 0.6699492535792404, 0.19289587399044988),\n",
       " (0.3126890019504329, 0.6928754610296064, 0.1923704830330379),\n",
       " (0.19645998900718342, 0.6974309119838096, 0.3614680088321782),\n",
       " (0.20125317221201128, 0.6907920815379025, 0.47966761189275336),\n",
       " (0.2047934223695329, 0.6857201900461317, 0.5491539606228022),\n",
       " (0.20774052347943134, 0.6813852191365138, 0.6002900398972028),\n",
       " (0.21044753832183283, 0.6773105080456748, 0.6433941168468681),\n",
       " (0.21316806282417172, 0.6731234926210208, 0.6838056741516414),\n",
       " (0.2161609050020783, 0.6684079809438751, 0.7255515774097884),\n",
       " (0.21979956608283252, 0.6625157876850336, 0.7732093159317208),\n",
       " (0.22480301438618688, 0.6541170341314059, 0.8343335482693295),\n",
       " (0.23299120924703914, 0.639586552066035, 0.9260706093977744),\n",
       " (0.43328034117642245, 0.6065273407962816, 0.9585467098271748),\n",
       " (0.5830408541921136, 0.5695319215803094, 0.9583591966369759),\n",
       " (0.6968456641452155, 0.5283777451706791, 0.9581680759272918),\n",
       " (0.8004936186423958, 0.47703363533737203, 0.9579547196007522),\n",
       " (0.9082572436765556, 0.40195790729656516, 0.9576909250290225),\n",
       " (0.9596479078308885, 0.3748291312853888, 0.8930044537663009),\n",
       " (0.962272393509669, 0.3976451968965351, 0.8008274363432775),\n",
       " (0.9642903119819891, 0.41420146582831974, 0.7188681186026104),\n",
       " (0.9660237860697111, 0.42783187979900156, 0.636998264206457)]"
      ]
     },
     "execution_count": 62,
     "metadata": {},
     "output_type": "execute_result"
    }
   ],
   "source": [
    "colors"
   ]
  },
  {
   "cell_type": "code",
   "execution_count": 63,
   "metadata": {
    "collapsed": false
   },
   "outputs": [],
   "source": [
    "rgbs = []\n",
    "for (r,g,b) in colors:\n",
    "    r *= 255\n",
    "    g *= 255\n",
    "    b *= 255\n",
    "    rgbs.append((int(r),int(g),int(b)))"
   ]
  },
  {
   "cell_type": "code",
   "execution_count": 64,
   "metadata": {
    "collapsed": false
   },
   "outputs": [
    {
     "data": {
      "text/plain": [
       "[(246, 112, 136),\n",
       " (247, 115, 103),\n",
       " (243, 121, 50),\n",
       " (219, 136, 49),\n",
       " (202, 145, 49),\n",
       " (187, 151, 49),\n",
       " (173, 156, 49),\n",
       " (158, 161, 49),\n",
       " (142, 165, 49),\n",
       " (119, 170, 49),\n",
       " (79, 176, 49),\n",
       " (50, 177, 92),\n",
       " (51, 176, 122),\n",
       " (52, 174, 140),\n",
       " (52, 173, 153),\n",
       " (53, 172, 164),\n",
       " (54, 171, 174),\n",
       " (55, 170, 185),\n",
       " (56, 168, 197),\n",
       " (57, 166, 212),\n",
       " (59, 163, 236),\n",
       " (110, 154, 244),\n",
       " (148, 145, 244),\n",
       " (177, 134, 244),\n",
       " (204, 121, 244),\n",
       " (231, 102, 244),\n",
       " (244, 95, 227),\n",
       " (245, 101, 204),\n",
       " (245, 105, 183),\n",
       " (246, 109, 162)]"
      ]
     },
     "execution_count": 64,
     "metadata": {},
     "output_type": "execute_result"
    }
   ],
   "source": [
    "rgbs"
   ]
  },
  {
   "cell_type": "code",
   "execution_count": 65,
   "metadata": {
    "collapsed": false
   },
   "outputs": [],
   "source": [
    "hexes = [\"#{0:02x}{1:02x}{2:02x}\".format(r,b,g) for (r,g,b) in rgbs]"
   ]
  },
  {
   "cell_type": "code",
   "execution_count": 66,
   "metadata": {
    "collapsed": false
   },
   "outputs": [
    {
     "data": {
      "text/plain": [
       "['#f68870',\n",
       " '#f76773',\n",
       " '#f33279',\n",
       " '#db3188',\n",
       " '#ca3191',\n",
       " '#bb3197',\n",
       " '#ad319c',\n",
       " '#9e31a1',\n",
       " '#8e31a5',\n",
       " '#7731aa',\n",
       " '#4f31b0',\n",
       " '#325cb1',\n",
       " '#337ab0',\n",
       " '#348cae',\n",
       " '#3499ad',\n",
       " '#35a4ac',\n",
       " '#36aeab',\n",
       " '#37b9aa',\n",
       " '#38c5a8',\n",
       " '#39d4a6',\n",
       " '#3beca3',\n",
       " '#6ef49a',\n",
       " '#94f491',\n",
       " '#b1f486',\n",
       " '#ccf479',\n",
       " '#e7f466',\n",
       " '#f4e35f',\n",
       " '#f5cc65',\n",
       " '#f5b769',\n",
       " '#f6a26d']"
      ]
     },
     "execution_count": 66,
     "metadata": {},
     "output_type": "execute_result"
    }
   ],
   "source": [
    "hexes"
   ]
  },
  {
   "cell_type": "code",
   "execution_count": 67,
   "metadata": {
    "collapsed": false
   },
   "outputs": [],
   "source": [
    "df.head(3).to_json('baby.json')"
   ]
  },
  {
   "cell_type": "code",
   "execution_count": 69,
   "metadata": {
    "collapsed": false
   },
   "outputs": [
    {
     "data": {
      "text/plain": [
       "'#325cb1'"
      ]
     },
     "execution_count": 69,
     "metadata": {},
     "output_type": "execute_result"
    }
   ],
   "source": [
    "hexes[11]"
   ]
  },
  {
   "cell_type": "code",
   "execution_count": 104,
   "metadata": {
    "collapsed": false
   },
   "outputs": [
    {
     "data": {
      "text/plain": [
       "['#f68870',\n",
       " '#f76773',\n",
       " '#f33279',\n",
       " '#db3188',\n",
       " '#ca3191',\n",
       " '#bb3197',\n",
       " '#ad319c',\n",
       " '#9e31a1',\n",
       " '#8e31a5',\n",
       " '#7731aa',\n",
       " '#4f31b0',\n",
       " '#325cb1',\n",
       " '#337ab0',\n",
       " '#348cae',\n",
       " '#3499ad',\n",
       " '#35a4ac',\n",
       " '#36aeab',\n",
       " '#37b9aa',\n",
       " '#38c5a8',\n",
       " '#39d4a6',\n",
       " '#3beca3',\n",
       " '#6ef49a',\n",
       " '#94f491',\n",
       " '#b1f486',\n",
       " '#ccf479',\n",
       " '#e7f466',\n",
       " '#f4e35f',\n",
       " '#f5cc65',\n",
       " '#f5b769',\n",
       " '#f6a26d']"
      ]
     },
     "execution_count": 104,
     "metadata": {},
     "output_type": "execute_result"
    }
   ],
   "source": [
    "hexes"
   ]
  },
  {
   "cell_type": "code",
   "execution_count": 111,
   "metadata": {
    "collapsed": false
   },
   "outputs": [],
   "source": [
    "hexes_ordered = []\n",
    "for i in range(len(hexes)):\n",
    "    if i % 3 == 0:\n",
    "        hexes_ordered.append(hexes[i])\n",
    "for i in range(len(hexes)):\n",
    "    if i % 3 == 0:\n",
    "        hexes_ordered.append(hexes[i+1])\n",
    "for i in range(len(hexes)):\n",
    "    if i % 3 == 0:\n",
    "        hexes_ordered.append(hexes[i+2])"
   ]
  },
  {
   "cell_type": "code",
   "execution_count": 115,
   "metadata": {
    "collapsed": false
   },
   "outputs": [
    {
     "name": "stdout",
     "output_type": "stream",
     "text": [
      "a {color: #f68870;}\n",
      "a {color: #db3188;}\n",
      "a {color: #ad319c;}\n",
      "a {color: #7731aa;}\n",
      "a {color: #337ab0;}\n",
      "a {color: #35a4ac;}\n",
      "a {color: #38c5a8;}\n",
      "a {color: #6ef49a;}\n",
      "a {color: #ccf479;}\n",
      "a {color: #f5cc65;}\n",
      "a {color: #f76773;}\n",
      "a {color: #ca3191;}\n",
      "a {color: #9e31a1;}\n",
      "a {color: #4f31b0;}\n",
      "a {color: #348cae;}\n",
      "a {color: #36aeab;}\n",
      "a {color: #39d4a6;}\n",
      "a {color: #94f491;}\n",
      "a {color: #e7f466;}\n",
      "a {color: #f5b769;}\n",
      "a {color: #f33279;}\n",
      "a {color: #bb3197;}\n",
      "a {color: #8e31a5;}\n",
      "a {color: #325cb1;}\n",
      "a {color: #3499ad;}\n",
      "a {color: #37b9aa;}\n",
      "a {color: #3beca3;}\n",
      "a {color: #b1f486;}\n",
      "a {color: #f4e35f;}\n",
      "a {color: #f6a26d;}\n"
     ]
    }
   ],
   "source": [
    "for i in hexes_ordered:\n",
    "    print(\"a {color: \" + i + \";}\")"
   ]
  },
  {
   "cell_type": "code",
   "execution_count": null,
   "metadata": {
    "collapsed": true
   },
   "outputs": [],
   "source": []
  }
 ],
 "metadata": {
  "kernelspec": {
   "display_name": "Python 3",
   "language": "python",
   "name": "python3"
  },
  "language_info": {
   "codemirror_mode": {
    "name": "ipython",
    "version": 3
   },
   "file_extension": ".py",
   "mimetype": "text/x-python",
   "name": "python",
   "nbconvert_exporter": "python",
   "pygments_lexer": "ipython3",
   "version": "3.4.3"
  }
 },
 "nbformat": 4,
 "nbformat_minor": 0
}
