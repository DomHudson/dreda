{
 "cells": [
  {
   "cell_type": "code",
   "execution_count": 1,
   "metadata": {
    "collapsed": true
   },
   "outputs": [],
   "source": [
    "# Sample data set"
   ]
  },
  {
   "cell_type": "code",
   "execution_count": 2,
   "metadata": {
    "collapsed": false
   },
   "outputs": [],
   "source": [
    "import pandas as pd\n",
    "import numpy as np"
   ]
  },
  {
   "cell_type": "code",
   "execution_count": 3,
   "metadata": {
    "collapsed": true
   },
   "outputs": [],
   "source": [
    "# number of data points\n",
    "n = 20000"
   ]
  },
  {
   "cell_type": "code",
   "execution_count": 4,
   "metadata": {
    "collapsed": false
   },
   "outputs": [
    {
     "data": {
      "text/plain": [
       "array([  56.55980954, -127.68210126,  -78.05611529, ...,  -48.4226655 ,\n",
       "         -4.36285443,   26.99468384])"
      ]
     },
     "execution_count": 4,
     "metadata": {},
     "output_type": "execute_result"
    }
   ],
   "source": [
    "np.random.randn(n) * 100"
   ]
  },
  {
   "cell_type": "code",
   "execution_count": 5,
   "metadata": {
    "collapsed": false
   },
   "outputs": [],
   "source": [
    "cluster_id = np.random.choice(5, n)"
   ]
  },
  {
   "cell_type": "code",
   "execution_count": 6,
   "metadata": {
    "collapsed": false
   },
   "outputs": [],
   "source": [
    "df = pd.DataFrame([np.random.randn(n) * 100, np.random.randn(n) * 100, np.random.randn(n) * 100, cluster_id])"
   ]
  },
  {
   "cell_type": "code",
   "execution_count": 7,
   "metadata": {
    "collapsed": false
   },
   "outputs": [],
   "source": [
    "df = df.T"
   ]
  },
  {
   "cell_type": "code",
   "execution_count": 8,
   "metadata": {
    "collapsed": false
   },
   "outputs": [],
   "source": [
    "df.columns=['x','y','z','cid']"
   ]
  },
  {
   "cell_type": "code",
   "execution_count": 9,
   "metadata": {
    "collapsed": false
   },
   "outputs": [
    {
     "data": {
      "text/html": [
       "<div style=\"max-height:1000px;max-width:1500px;overflow:auto;\">\n",
       "<table border=\"1\" class=\"dataframe\">\n",
       "  <thead>\n",
       "    <tr style=\"text-align: right;\">\n",
       "      <th></th>\n",
       "      <th>x</th>\n",
       "      <th>y</th>\n",
       "      <th>z</th>\n",
       "      <th>cid</th>\n",
       "    </tr>\n",
       "  </thead>\n",
       "  <tbody>\n",
       "    <tr>\n",
       "      <th>3</th>\n",
       "      <td>-173.384194</td>\n",
       "      <td>92.434828</td>\n",
       "      <td>174.958792</td>\n",
       "      <td>0</td>\n",
       "    </tr>\n",
       "    <tr>\n",
       "      <th>0</th>\n",
       "      <td>4.227544</td>\n",
       "      <td>-173.455151</td>\n",
       "      <td>115.803876</td>\n",
       "      <td>3</td>\n",
       "    </tr>\n",
       "    <tr>\n",
       "      <th>2</th>\n",
       "      <td>-69.842106</td>\n",
       "      <td>-50.605394</td>\n",
       "      <td>53.689515</td>\n",
       "      <td>3</td>\n",
       "    </tr>\n",
       "    <tr>\n",
       "      <th>1</th>\n",
       "      <td>77.342158</td>\n",
       "      <td>64.501681</td>\n",
       "      <td>142.456844</td>\n",
       "      <td>4</td>\n",
       "    </tr>\n",
       "    <tr>\n",
       "      <th>4</th>\n",
       "      <td>-26.032578</td>\n",
       "      <td>-57.468052</td>\n",
       "      <td>23.177858</td>\n",
       "      <td>4</td>\n",
       "    </tr>\n",
       "  </tbody>\n",
       "</table>\n",
       "</div>"
      ],
      "text/plain": [
       "            x           y           z  cid\n",
       "3 -173.384194   92.434828  174.958792    0\n",
       "0    4.227544 -173.455151  115.803876    3\n",
       "2  -69.842106  -50.605394   53.689515    3\n",
       "1   77.342158   64.501681  142.456844    4\n",
       "4  -26.032578  -57.468052   23.177858    4"
      ]
     },
     "execution_count": 9,
     "metadata": {},
     "output_type": "execute_result"
    }
   ],
   "source": [
    "df.head().sort(['cid'])"
   ]
  },
  {
   "cell_type": "code",
   "execution_count": 10,
   "metadata": {
    "collapsed": false
   },
   "outputs": [
    {
     "name": "stdout",
     "output_type": "stream",
     "text": [
      "<class 'pandas.core.frame.DataFrame'>\n",
      "Int64Index: 20000 entries, 0 to 19999\n",
      "Data columns (total 4 columns):\n",
      "x      20000 non-null float64\n",
      "y      20000 non-null float64\n",
      "z      20000 non-null float64\n",
      "cid    20000 non-null float64\n",
      "dtypes: float64(4)\n",
      "memory usage: 781.2 KB\n"
     ]
    }
   ],
   "source": [
    "df.info()"
   ]
  },
  {
   "cell_type": "code",
   "execution_count": 11,
   "metadata": {
    "collapsed": false
   },
   "outputs": [],
   "source": [
    "    df.to_json('sample_data.json')"
   ]
  },
  {
   "cell_type": "code",
   "execution_count": 12,
   "metadata": {
    "collapsed": false
   },
   "outputs": [
    {
     "name": "stdout",
     "output_type": "stream",
     "text": [
      "data_generator.ipynb demo.webm            disc.png             sample_data.json\r\n"
     ]
    }
   ],
   "source": [
    "! ls"
   ]
  },
  {
   "cell_type": "code",
   "execution_count": 80,
   "metadata": {
    "collapsed": true
   },
   "outputs": [],
   "source": [
    "# Color Generator"
   ]
  },
  {
   "cell_type": "code",
   "execution_count": 1,
   "metadata": {
    "collapsed": false
   },
   "outputs": [],
   "source": [
    "import seaborn as sns\n",
    "import matplotlib.pyplot as plt"
   ]
  },
  {
   "cell_type": "code",
   "execution_count": 2,
   "metadata": {
    "collapsed": true
   },
   "outputs": [],
   "source": [
    "% matplotlib inline"
   ]
  },
  {
   "cell_type": "code",
   "execution_count": 3,
   "metadata": {
    "collapsed": false
   },
   "outputs": [
    {
     "data": {
      "image/png": "[encoded data removed]",
      "text/plain": [
       "<matplotlib.figure.Figure at 0x10e0f38d0>"
      ]
     },
     "metadata": {},
     "output_type": "display_data"
    }
   ],
   "source": [
    "sns.palplot(sns.color_palette('husl', 30))"
   ]
  },
  {
   "cell_type": "code",
   "execution_count": 4,
   "metadata": {
    "collapsed": false
   },
   "outputs": [
    {
     "data": {
      "text/plain": [
       "[(0.9677975592919913, 0.44127456009157356, 0.5358103155058701),\n",
       " (0.9694979754285514, 0.4537284387051496, 0.40783466214891867),\n",
       " (0.9542900080364486, 0.4779505175890752, 0.1963917622115608),\n",
       " (0.8616090647292522, 0.536495730113334, 0.19548899031476086),\n",
       " (0.7930046244373694, 0.5708100522446624, 0.19489531984381053),\n",
       " (0.7350228985632719, 0.5952719904750953, 0.1944419133847522),\n",
       " (0.6804189127793346, 0.6151497514677574, 0.19405452111445337),\n",
       " (0.6234809659087222, 0.6330654918766613, 0.19369052933737949),\n",
       " (0.5571803870240879, 0.6507747739933957, 0.19331667588333168),\n",
       " (0.46810256823426116, 0.6699492535792404, 0.19289587399044988),\n",
       " (0.3126890019504329, 0.6928754610296064, 0.1923704830330379),\n",
       " (0.19645998900718342, 0.6974309119838096, 0.3614680088321782),\n",
       " (0.20125317221201128, 0.6907920815379025, 0.47966761189275336),\n",
       " (0.2047934223695329, 0.6857201900461317, 0.5491539606228022),\n",
       " (0.20774052347943134, 0.6813852191365138, 0.6002900398972028),\n",
       " (0.21044753832183283, 0.6773105080456748, 0.6433941168468681),\n",
       " (0.21316806282417172, 0.6731234926210208, 0.6838056741516414),\n",
       " (0.2161609050020783, 0.6684079809438751, 0.7255515774097884),\n",
       " (0.21979956608283252, 0.6625157876850336, 0.7732093159317208),\n",
       " (0.22480301438618688, 0.6541170341314059, 0.8343335482693295),\n",
       " (0.23299120924703914, 0.639586552066035, 0.9260706093977744),\n",
       " (0.43328034117642245, 0.6065273407962816, 0.9585467098271748),\n",
       " (0.5830408541921136, 0.5695319215803094, 0.9583591966369759),\n",
       " (0.6968456641452155, 0.5283777451706791, 0.9581680759272918),\n",
       " (0.8004936186423958, 0.47703363533737203, 0.9579547196007522),\n",
       " (0.9082572436765556, 0.40195790729656516, 0.9576909250290225),\n",
       " (0.9596479078308885, 0.3748291312853888, 0.8930044537663009),\n",
       " (0.962272393509669, 0.3976451968965351, 0.8008274363432775),\n",
       " (0.9642903119819891, 0.41420146582831974, 0.7188681186026104),\n",
       " (0.9660237860697111, 0.42783187979900156, 0.636998264206457)]"
      ]
     },
     "execution_count": 4,
     "metadata": {},
     "output_type": "execute_result"
    }
   ],
   "source": [
    "sns.color_palette('husl', 30)"
   ]
  },
  {
   "cell_type": "code",
   "execution_count": 5,
   "metadata": {
    "collapsed": true
   },
   "outputs": [],
   "source": [
    "colors = sns.color_palette('husl', 30)"
   ]
  },
  {
   "cell_type": "code",
   "execution_count": 6,
   "metadata": {
    "collapsed": false
   },
   "outputs": [
    {
     "data": {
      "text/plain": [
       "[(0.9677975592919913, 0.44127456009157356, 0.5358103155058701),\n",
       " (0.9694979754285514, 0.4537284387051496, 0.40783466214891867),\n",
       " (0.9542900080364486, 0.4779505175890752, 0.1963917622115608),\n",
       " (0.8616090647292522, 0.536495730113334, 0.19548899031476086),\n",
       " (0.7930046244373694, 0.5708100522446624, 0.19489531984381053),\n",
       " (0.7350228985632719, 0.5952719904750953, 0.1944419133847522),\n",
       " (0.6804189127793346, 0.6151497514677574, 0.19405452111445337),\n",
       " (0.6234809659087222, 0.6330654918766613, 0.19369052933737949),\n",
       " (0.5571803870240879, 0.6507747739933957, 0.19331667588333168),\n",
       " (0.46810256823426116, 0.6699492535792404, 0.19289587399044988),\n",
       " (0.3126890019504329, 0.6928754610296064, 0.1923704830330379),\n",
       " (0.19645998900718342, 0.6974309119838096, 0.3614680088321782),\n",
       " (0.20125317221201128, 0.6907920815379025, 0.47966761189275336),\n",
       " (0.2047934223695329, 0.6857201900461317, 0.5491539606228022),\n",
       " (0.20774052347943134, 0.6813852191365138, 0.6002900398972028),\n",
       " (0.21044753832183283, 0.6773105080456748, 0.6433941168468681),\n",
       " (0.21316806282417172, 0.6731234926210208, 0.6838056741516414),\n",
       " (0.2161609050020783, 0.6684079809438751, 0.7255515774097884),\n",
       " (0.21979956608283252, 0.6625157876850336, 0.7732093159317208),\n",
       " (0.22480301438618688, 0.6541170341314059, 0.8343335482693295),\n",
       " (0.23299120924703914, 0.639586552066035, 0.9260706093977744),\n",
       " (0.43328034117642245, 0.6065273407962816, 0.9585467098271748),\n",
       " (0.5830408541921136, 0.5695319215803094, 0.9583591966369759),\n",
       " (0.6968456641452155, 0.5283777451706791, 0.9581680759272918),\n",
       " (0.8004936186423958, 0.47703363533737203, 0.9579547196007522),\n",
       " (0.9082572436765556, 0.40195790729656516, 0.9576909250290225),\n",
       " (0.9596479078308885, 0.3748291312853888, 0.8930044537663009),\n",
       " (0.962272393509669, 0.3976451968965351, 0.8008274363432775),\n",
       " (0.9642903119819891, 0.41420146582831974, 0.7188681186026104),\n",
       " (0.9660237860697111, 0.42783187979900156, 0.636998264206457)]"
      ]
     },
     "execution_count": 6,
     "metadata": {},
     "output_type": "execute_result"
    }
   ],
   "source": [
    "colors"
   ]
  },
  {
   "cell_type": "code",
   "execution_count": 7,
   "metadata": {
    "collapsed": false
   },
   "outputs": [],
   "source": [
    "rgbs = []\n",
    "for (r,g,b) in colors:\n",
    "    r *= 255\n",
    "    g *= 255\n",
    "    b *= 255\n",
    "    rgbs.append((int(r),int(g),int(b)))"
   ]
  },
  {
   "cell_type": "code",
   "execution_count": 8,
   "metadata": {
    "collapsed": false
   },
   "outputs": [
    {
     "data": {
      "text/plain": [
       "[(246, 112, 136),\n",
       " (247, 115, 103),\n",
       " (243, 121, 50),\n",
       " (219, 136, 49),\n",
       " (202, 145, 49),\n",
       " (187, 151, 49),\n",
       " (173, 156, 49),\n",
       " (158, 161, 49),\n",
       " (142, 165, 49),\n",
       " (119, 170, 49),\n",
       " (79, 176, 49),\n",
       " (50, 177, 92),\n",
       " (51, 176, 122),\n",
       " (52, 174, 140),\n",
       " (52, 173, 153),\n",
       " (53, 172, 164),\n",
       " (54, 171, 174),\n",
       " (55, 170, 185),\n",
       " (56, 168, 197),\n",
       " (57, 166, 212),\n",
       " (59, 163, 236),\n",
       " (110, 154, 244),\n",
       " (148, 145, 244),\n",
       " (177, 134, 244),\n",
       " (204, 121, 244),\n",
       " (231, 102, 244),\n",
       " (244, 95, 227),\n",
       " (245, 101, 204),\n",
       " (245, 105, 183),\n",
       " (246, 109, 162)]"
      ]
     },
     "execution_count": 8,
     "metadata": {},
     "output_type": "execute_result"
    }
   ],
   "source": [
    "rgbs"
   ]
  },
  {
   "cell_type": "code",
   "execution_count": 10,
   "metadata": {
    "collapsed": false
   },
   "outputs": [],
   "source": [
    "hexes = [\"#{0:02x}{1:02x}{2:02x}\".format(r,b,g) for (r,g,b) in rgbs]"
   ]
  },
  {
   "cell_type": "code",
   "execution_count": 11,
   "metadata": {
    "collapsed": false
   },
   "outputs": [
    {
     "data": {
      "text/plain": [
       "['#f68870',\n",
       " '#f76773',\n",
       " '#f33279',\n",
       " '#db3188',\n",
       " '#ca3191',\n",
       " '#bb3197',\n",
       " '#ad319c',\n",
       " '#9e31a1',\n",
       " '#8e31a5',\n",
       " '#7731aa',\n",
       " '#4f31b0',\n",
       " '#325cb1',\n",
       " '#337ab0',\n",
       " '#348cae',\n",
       " '#3499ad',\n",
       " '#35a4ac',\n",
       " '#36aeab',\n",
       " '#37b9aa',\n",
       " '#38c5a8',\n",
       " '#39d4a6',\n",
       " '#3beca3',\n",
       " '#6ef49a',\n",
       " '#94f491',\n",
       " '#b1f486',\n",
       " '#ccf479',\n",
       " '#e7f466',\n",
       " '#f4e35f',\n",
       " '#f5cc65',\n",
       " '#f5b769',\n",
       " '#f6a26d']"
      ]
     },
     "execution_count": 11,
     "metadata": {},
     "output_type": "execute_result"
    }
   ],
   "source": [
    "hexes"
   ]
  },
  {
   "cell_type": "code",
   "execution_count": 155,
   "metadata": {
    "collapsed": false
   },
   "outputs": [],
   "source": [
    "df.head(3).to_json('baby.json')"
   ]
  },
  {
   "cell_type": "code",
   "execution_count": null,
   "metadata": {
    "collapsed": true
   },
   "outputs": [],
   "source": []
  }
 ],
 "metadata": {
  "kernelspec": {
   "display_name": "Python 3",
   "language": "python",
   "name": "python3"
  },
  "language_info": {
   "codemirror_mode": {
    "name": "ipython",
    "version": 3
   },
   "file_extension": ".py",
   "mimetype": "text/x-python",
   "name": "python",
   "nbconvert_exporter": "python",
   "pygments_lexer": "ipython3",
   "version": "3.4.3"
  }
 },
 "nbformat": 4,
 "nbformat_minor": 0
}
